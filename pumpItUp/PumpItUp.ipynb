{
 "cells": [
  {
   "cell_type": "markdown",
   "metadata": {},
   "source": [
    "# Pump It Up"
   ]
  },
  {
   "cell_type": "code",
   "execution_count": 1,
   "metadata": {
    "collapsed": true
   },
   "outputs": [],
   "source": [
    "import os\n",
    "import numpy as np\n",
    "import pandas as pd\n",
    "import matplotlib.pyplot as plt\n",
    "import seaborn as sns\n",
    "\n",
    "%matplotlib inline"
   ]
  },
  {
   "cell_type": "code",
   "execution_count": 2,
   "metadata": {
    "collapsed": true
   },
   "outputs": [],
   "source": [
    "# 读入数据\n",
    "DIR = \"D:\\PlayGround\\drivendata-nb\\pumpItUp\"\n",
    "train_data = pd.read_csv(os.path.join(DIR, \"train-values.csv\"))\n",
    "train_labels = pd.read_csv(os.path.join(DIR, \"train-labels.csv\"))\n",
    "test_data = pd.read_csv(os.path.join(DIR, \"test-values.csv\"))\n",
    "\n",
    "# 把train数据合在一起便于分析\n",
    "train = pd.merge(train_data, train_labels, on='id')"
   ]
  },
  {
   "cell_type": "code",
   "execution_count": 246,
   "metadata": {
    "collapsed": true
   },
   "outputs": [],
   "source": [
    "# 计算缺失值比例的函数\n",
    "def miss_rate(series):\n",
    "    if series.dtype == 'object':\n",
    "        return np.count_nonzero(series.isnull()) / series.shape[0]\n",
    "    if series.dtype == 'int64' or series.dtype == 'float64':\n",
    "        return 1 - np.count_nonzero(series) / series.shape[0]\n",
    "\n",
    "# 画两个Series之间的堆叠柱状图\n",
    "def stacked_bar(series1, series2, figsize=(14,8), ticksize=10, hspace=0.2, palette='Set2', pal_random=True):\n",
    "    crosstab = pd.crosstab(series1, series2)\n",
    "    crosstab_prob = pd.crosstab(series1, series2, normalize='index')\n",
    "    \n",
    "    print(\"bar order: \")\n",
    "    for i in series2.unique()[::-1]:\n",
    "        print('\\t', str(i))\n",
    "    \n",
    "    stacks = list() \n",
    "    prob_stacks = list()\n",
    "    for val in series2.unique():\n",
    "        if stacks:\n",
    "            stacks.append(crosstab[val] + stacks[-1])\n",
    "        else:\n",
    "            stacks.append(crosstab[val])\n",
    "    \n",
    "    for val in series2.unique():\n",
    "        if prob_stacks:\n",
    "            prob_stacks.append(crosstab_prob[val] + prob_stacks[-1])\n",
    "        else:\n",
    "            prob_stacks.append(crosstab_prob[val])\n",
    "    \n",
    "    fig, (ax0, ax1) = plt.subplots(nrows=2, ncols=1, figsize=figsize)\n",
    "    color_palette = sns.color_palette(palette, series2.unique().shape[0]+5)    # 调色盘设置\n",
    "    if pal_random:\n",
    "        np.random.shuffle(color_palette)    # 如果pal_random==True, 则随机排列palette\n",
    "    plt.subplots_adjust(hspace=hspace)    # 图像之间的垂直距离\n",
    "    \n",
    "    i, j = 0, 0\n",
    "    for item in stacks[::-1]:\n",
    "        sns.barplot(item.index, item.values, ax=ax0, color=color_palette[i])\n",
    "        xticklabels = ax0.set_xticklabels(ax0.get_xticklabels(), rotation = 45)\n",
    "        i += 1\n",
    "    for tick in ax0.xaxis.get_major_ticks():\n",
    "        tick.label.set_fontsize(ticksize)\n",
    "    \n",
    "    for item in prob_stacks[::-1]:\n",
    "        sns.barplot(item.index, item.values, ax=ax1, color=color_palette[j])\n",
    "        xticklabels = ax1.set_xticklabels(ax1.get_xticklabels(), rotation = 45)\n",
    "        j += 1\n",
    "    for tick in ax1.xaxis.get_major_ticks():\n",
    "        tick.label.set_fontsize(ticksize)"
   ]
  },
  {
   "cell_type": "code",
   "execution_count": 9,
   "metadata": {},
   "outputs": [
    {
     "data": {
      "text/html": [
       "<div>\n",
       "<style>\n",
       "    .dataframe thead tr:only-child th {\n",
       "        text-align: right;\n",
       "    }\n",
       "\n",
       "    .dataframe thead th {\n",
       "        text-align: left;\n",
       "    }\n",
       "\n",
       "    .dataframe tbody tr th {\n",
       "        vertical-align: top;\n",
       "    }\n",
       "</style>\n",
       "<table border=\"1\" class=\"dataframe\">\n",
       "  <thead>\n",
       "    <tr style=\"text-align: right;\">\n",
       "      <th></th>\n",
       "      <th>id</th>\n",
       "      <th>amount_tsh</th>\n",
       "      <th>date_recorded</th>\n",
       "      <th>funder</th>\n",
       "      <th>gps_height</th>\n",
       "      <th>installer</th>\n",
       "      <th>longitude</th>\n",
       "      <th>latitude</th>\n",
       "      <th>wpt_name</th>\n",
       "      <th>num_private</th>\n",
       "    </tr>\n",
       "  </thead>\n",
       "  <tbody>\n",
       "    <tr>\n",
       "      <th>0</th>\n",
       "      <td>69572</td>\n",
       "      <td>6000.0</td>\n",
       "      <td>2011-03-14</td>\n",
       "      <td>Roman</td>\n",
       "      <td>1390</td>\n",
       "      <td>Roman</td>\n",
       "      <td>34.938093</td>\n",
       "      <td>-9.856322</td>\n",
       "      <td>none</td>\n",
       "      <td>0</td>\n",
       "    </tr>\n",
       "    <tr>\n",
       "      <th>1</th>\n",
       "      <td>8776</td>\n",
       "      <td>0.0</td>\n",
       "      <td>2013-03-06</td>\n",
       "      <td>Grumeti</td>\n",
       "      <td>1399</td>\n",
       "      <td>GRUMETI</td>\n",
       "      <td>34.698766</td>\n",
       "      <td>-2.147466</td>\n",
       "      <td>Zahanati</td>\n",
       "      <td>0</td>\n",
       "    </tr>\n",
       "    <tr>\n",
       "      <th>2</th>\n",
       "      <td>34310</td>\n",
       "      <td>25.0</td>\n",
       "      <td>2013-02-25</td>\n",
       "      <td>Lottery Club</td>\n",
       "      <td>686</td>\n",
       "      <td>World vision</td>\n",
       "      <td>37.460664</td>\n",
       "      <td>-3.821329</td>\n",
       "      <td>Kwa Mahundi</td>\n",
       "      <td>0</td>\n",
       "    </tr>\n",
       "    <tr>\n",
       "      <th>3</th>\n",
       "      <td>67743</td>\n",
       "      <td>0.0</td>\n",
       "      <td>2013-01-28</td>\n",
       "      <td>Unicef</td>\n",
       "      <td>263</td>\n",
       "      <td>UNICEF</td>\n",
       "      <td>38.486161</td>\n",
       "      <td>-11.155298</td>\n",
       "      <td>Zahanati Ya Nanyumbu</td>\n",
       "      <td>0</td>\n",
       "    </tr>\n",
       "    <tr>\n",
       "      <th>4</th>\n",
       "      <td>19728</td>\n",
       "      <td>0.0</td>\n",
       "      <td>2011-07-13</td>\n",
       "      <td>Action In A</td>\n",
       "      <td>0</td>\n",
       "      <td>Artisan</td>\n",
       "      <td>31.130847</td>\n",
       "      <td>-1.825359</td>\n",
       "      <td>Shuleni</td>\n",
       "      <td>0</td>\n",
       "    </tr>\n",
       "  </tbody>\n",
       "</table>\n",
       "</div>"
      ],
      "text/plain": [
       "      id  amount_tsh date_recorded        funder  gps_height     installer  \\\n",
       "0  69572      6000.0    2011-03-14         Roman        1390         Roman   \n",
       "1   8776         0.0    2013-03-06       Grumeti        1399       GRUMETI   \n",
       "2  34310        25.0    2013-02-25  Lottery Club         686  World vision   \n",
       "3  67743         0.0    2013-01-28        Unicef         263        UNICEF   \n",
       "4  19728         0.0    2011-07-13   Action In A           0       Artisan   \n",
       "\n",
       "   longitude   latitude              wpt_name  num_private  \n",
       "0  34.938093  -9.856322                  none            0  \n",
       "1  34.698766  -2.147466              Zahanati            0  \n",
       "2  37.460664  -3.821329           Kwa Mahundi            0  \n",
       "3  38.486161 -11.155298  Zahanati Ya Nanyumbu            0  \n",
       "4  31.130847  -1.825359               Shuleni            0  "
      ]
     },
     "execution_count": 9,
     "metadata": {},
     "output_type": "execute_result"
    }
   ],
   "source": [
    "train_data.iloc[:, :10].head()"
   ]
  },
  {
   "cell_type": "code",
   "execution_count": 10,
   "metadata": {},
   "outputs": [
    {
     "data": {
      "text/html": [
       "<div>\n",
       "<style>\n",
       "    .dataframe thead tr:only-child th {\n",
       "        text-align: right;\n",
       "    }\n",
       "\n",
       "    .dataframe thead th {\n",
       "        text-align: left;\n",
       "    }\n",
       "\n",
       "    .dataframe tbody tr th {\n",
       "        vertical-align: top;\n",
       "    }\n",
       "</style>\n",
       "<table border=\"1\" class=\"dataframe\">\n",
       "  <thead>\n",
       "    <tr style=\"text-align: right;\">\n",
       "      <th></th>\n",
       "      <th>basin</th>\n",
       "      <th>subvillage</th>\n",
       "      <th>region</th>\n",
       "      <th>region_code</th>\n",
       "      <th>district_code</th>\n",
       "      <th>lga</th>\n",
       "      <th>ward</th>\n",
       "      <th>population</th>\n",
       "      <th>public_meeting</th>\n",
       "      <th>recorded_by</th>\n",
       "    </tr>\n",
       "  </thead>\n",
       "  <tbody>\n",
       "    <tr>\n",
       "      <th>0</th>\n",
       "      <td>Lake Nyasa</td>\n",
       "      <td>Mnyusi B</td>\n",
       "      <td>Iringa</td>\n",
       "      <td>11</td>\n",
       "      <td>5</td>\n",
       "      <td>Ludewa</td>\n",
       "      <td>Mundindi</td>\n",
       "      <td>109</td>\n",
       "      <td>True</td>\n",
       "      <td>GeoData Consultants Ltd</td>\n",
       "    </tr>\n",
       "    <tr>\n",
       "      <th>1</th>\n",
       "      <td>Lake Victoria</td>\n",
       "      <td>Nyamara</td>\n",
       "      <td>Mara</td>\n",
       "      <td>20</td>\n",
       "      <td>2</td>\n",
       "      <td>Serengeti</td>\n",
       "      <td>Natta</td>\n",
       "      <td>280</td>\n",
       "      <td>NaN</td>\n",
       "      <td>GeoData Consultants Ltd</td>\n",
       "    </tr>\n",
       "    <tr>\n",
       "      <th>2</th>\n",
       "      <td>Pangani</td>\n",
       "      <td>Majengo</td>\n",
       "      <td>Manyara</td>\n",
       "      <td>21</td>\n",
       "      <td>4</td>\n",
       "      <td>Simanjiro</td>\n",
       "      <td>Ngorika</td>\n",
       "      <td>250</td>\n",
       "      <td>True</td>\n",
       "      <td>GeoData Consultants Ltd</td>\n",
       "    </tr>\n",
       "    <tr>\n",
       "      <th>3</th>\n",
       "      <td>Ruvuma / Southern Coast</td>\n",
       "      <td>Mahakamani</td>\n",
       "      <td>Mtwara</td>\n",
       "      <td>90</td>\n",
       "      <td>63</td>\n",
       "      <td>Nanyumbu</td>\n",
       "      <td>Nanyumbu</td>\n",
       "      <td>58</td>\n",
       "      <td>True</td>\n",
       "      <td>GeoData Consultants Ltd</td>\n",
       "    </tr>\n",
       "    <tr>\n",
       "      <th>4</th>\n",
       "      <td>Lake Victoria</td>\n",
       "      <td>Kyanyamisa</td>\n",
       "      <td>Kagera</td>\n",
       "      <td>18</td>\n",
       "      <td>1</td>\n",
       "      <td>Karagwe</td>\n",
       "      <td>Nyakasimbi</td>\n",
       "      <td>0</td>\n",
       "      <td>True</td>\n",
       "      <td>GeoData Consultants Ltd</td>\n",
       "    </tr>\n",
       "  </tbody>\n",
       "</table>\n",
       "</div>"
      ],
      "text/plain": [
       "                     basin  subvillage   region  region_code  district_code  \\\n",
       "0               Lake Nyasa    Mnyusi B   Iringa           11              5   \n",
       "1            Lake Victoria     Nyamara     Mara           20              2   \n",
       "2                  Pangani     Majengo  Manyara           21              4   \n",
       "3  Ruvuma / Southern Coast  Mahakamani   Mtwara           90             63   \n",
       "4            Lake Victoria  Kyanyamisa   Kagera           18              1   \n",
       "\n",
       "         lga        ward  population public_meeting              recorded_by  \n",
       "0     Ludewa    Mundindi         109           True  GeoData Consultants Ltd  \n",
       "1  Serengeti       Natta         280            NaN  GeoData Consultants Ltd  \n",
       "2  Simanjiro     Ngorika         250           True  GeoData Consultants Ltd  \n",
       "3   Nanyumbu    Nanyumbu          58           True  GeoData Consultants Ltd  \n",
       "4    Karagwe  Nyakasimbi           0           True  GeoData Consultants Ltd  "
      ]
     },
     "execution_count": 10,
     "metadata": {},
     "output_type": "execute_result"
    }
   ],
   "source": [
    "train_data.iloc[:, 10:20].head()"
   ]
  },
  {
   "cell_type": "code",
   "execution_count": 11,
   "metadata": {
    "scrolled": false
   },
   "outputs": [
    {
     "data": {
      "text/html": [
       "<div>\n",
       "<style>\n",
       "    .dataframe thead tr:only-child th {\n",
       "        text-align: right;\n",
       "    }\n",
       "\n",
       "    .dataframe thead th {\n",
       "        text-align: left;\n",
       "    }\n",
       "\n",
       "    .dataframe tbody tr th {\n",
       "        vertical-align: top;\n",
       "    }\n",
       "</style>\n",
       "<table border=\"1\" class=\"dataframe\">\n",
       "  <thead>\n",
       "    <tr style=\"text-align: right;\">\n",
       "      <th></th>\n",
       "      <th>scheme_management</th>\n",
       "      <th>scheme_name</th>\n",
       "      <th>permit</th>\n",
       "      <th>construction_year</th>\n",
       "      <th>extraction_type</th>\n",
       "      <th>extraction_type_group</th>\n",
       "      <th>extraction_type_class</th>\n",
       "      <th>management</th>\n",
       "      <th>management_group</th>\n",
       "      <th>payment</th>\n",
       "    </tr>\n",
       "  </thead>\n",
       "  <tbody>\n",
       "    <tr>\n",
       "      <th>0</th>\n",
       "      <td>VWC</td>\n",
       "      <td>Roman</td>\n",
       "      <td>False</td>\n",
       "      <td>1999</td>\n",
       "      <td>gravity</td>\n",
       "      <td>gravity</td>\n",
       "      <td>gravity</td>\n",
       "      <td>vwc</td>\n",
       "      <td>user-group</td>\n",
       "      <td>pay annually</td>\n",
       "    </tr>\n",
       "    <tr>\n",
       "      <th>1</th>\n",
       "      <td>Other</td>\n",
       "      <td>NaN</td>\n",
       "      <td>True</td>\n",
       "      <td>2010</td>\n",
       "      <td>gravity</td>\n",
       "      <td>gravity</td>\n",
       "      <td>gravity</td>\n",
       "      <td>wug</td>\n",
       "      <td>user-group</td>\n",
       "      <td>never pay</td>\n",
       "    </tr>\n",
       "    <tr>\n",
       "      <th>2</th>\n",
       "      <td>VWC</td>\n",
       "      <td>Nyumba ya mungu pipe scheme</td>\n",
       "      <td>True</td>\n",
       "      <td>2009</td>\n",
       "      <td>gravity</td>\n",
       "      <td>gravity</td>\n",
       "      <td>gravity</td>\n",
       "      <td>vwc</td>\n",
       "      <td>user-group</td>\n",
       "      <td>pay per bucket</td>\n",
       "    </tr>\n",
       "    <tr>\n",
       "      <th>3</th>\n",
       "      <td>VWC</td>\n",
       "      <td>NaN</td>\n",
       "      <td>True</td>\n",
       "      <td>1986</td>\n",
       "      <td>submersible</td>\n",
       "      <td>submersible</td>\n",
       "      <td>submersible</td>\n",
       "      <td>vwc</td>\n",
       "      <td>user-group</td>\n",
       "      <td>never pay</td>\n",
       "    </tr>\n",
       "    <tr>\n",
       "      <th>4</th>\n",
       "      <td>NaN</td>\n",
       "      <td>NaN</td>\n",
       "      <td>True</td>\n",
       "      <td>0</td>\n",
       "      <td>gravity</td>\n",
       "      <td>gravity</td>\n",
       "      <td>gravity</td>\n",
       "      <td>other</td>\n",
       "      <td>other</td>\n",
       "      <td>never pay</td>\n",
       "    </tr>\n",
       "  </tbody>\n",
       "</table>\n",
       "</div>"
      ],
      "text/plain": [
       "  scheme_management                  scheme_name permit  construction_year  \\\n",
       "0               VWC                        Roman  False               1999   \n",
       "1             Other                          NaN   True               2010   \n",
       "2               VWC  Nyumba ya mungu pipe scheme   True               2009   \n",
       "3               VWC                          NaN   True               1986   \n",
       "4               NaN                          NaN   True                  0   \n",
       "\n",
       "  extraction_type extraction_type_group extraction_type_class management  \\\n",
       "0         gravity               gravity               gravity        vwc   \n",
       "1         gravity               gravity               gravity        wug   \n",
       "2         gravity               gravity               gravity        vwc   \n",
       "3     submersible           submersible           submersible        vwc   \n",
       "4         gravity               gravity               gravity      other   \n",
       "\n",
       "  management_group         payment  \n",
       "0       user-group    pay annually  \n",
       "1       user-group       never pay  \n",
       "2       user-group  pay per bucket  \n",
       "3       user-group       never pay  \n",
       "4            other       never pay  "
      ]
     },
     "execution_count": 11,
     "metadata": {},
     "output_type": "execute_result"
    }
   ],
   "source": [
    "train_data.iloc[:, 20:30].head()"
   ]
  },
  {
   "cell_type": "code",
   "execution_count": 12,
   "metadata": {
    "scrolled": true
   },
   "outputs": [
    {
     "data": {
      "text/html": [
       "<div>\n",
       "<style>\n",
       "    .dataframe thead tr:only-child th {\n",
       "        text-align: right;\n",
       "    }\n",
       "\n",
       "    .dataframe thead th {\n",
       "        text-align: left;\n",
       "    }\n",
       "\n",
       "    .dataframe tbody tr th {\n",
       "        vertical-align: top;\n",
       "    }\n",
       "</style>\n",
       "<table border=\"1\" class=\"dataframe\">\n",
       "  <thead>\n",
       "    <tr style=\"text-align: right;\">\n",
       "      <th></th>\n",
       "      <th>payment_type</th>\n",
       "      <th>water_quality</th>\n",
       "      <th>quality_group</th>\n",
       "      <th>quantity</th>\n",
       "      <th>quantity_group</th>\n",
       "      <th>source</th>\n",
       "      <th>source_type</th>\n",
       "      <th>source_class</th>\n",
       "      <th>waterpoint_type</th>\n",
       "      <th>waterpoint_type_group</th>\n",
       "    </tr>\n",
       "  </thead>\n",
       "  <tbody>\n",
       "    <tr>\n",
       "      <th>0</th>\n",
       "      <td>annually</td>\n",
       "      <td>soft</td>\n",
       "      <td>good</td>\n",
       "      <td>enough</td>\n",
       "      <td>enough</td>\n",
       "      <td>spring</td>\n",
       "      <td>spring</td>\n",
       "      <td>groundwater</td>\n",
       "      <td>communal standpipe</td>\n",
       "      <td>communal standpipe</td>\n",
       "    </tr>\n",
       "    <tr>\n",
       "      <th>1</th>\n",
       "      <td>never pay</td>\n",
       "      <td>soft</td>\n",
       "      <td>good</td>\n",
       "      <td>insufficient</td>\n",
       "      <td>insufficient</td>\n",
       "      <td>rainwater harvesting</td>\n",
       "      <td>rainwater harvesting</td>\n",
       "      <td>surface</td>\n",
       "      <td>communal standpipe</td>\n",
       "      <td>communal standpipe</td>\n",
       "    </tr>\n",
       "    <tr>\n",
       "      <th>2</th>\n",
       "      <td>per bucket</td>\n",
       "      <td>soft</td>\n",
       "      <td>good</td>\n",
       "      <td>enough</td>\n",
       "      <td>enough</td>\n",
       "      <td>dam</td>\n",
       "      <td>dam</td>\n",
       "      <td>surface</td>\n",
       "      <td>communal standpipe multiple</td>\n",
       "      <td>communal standpipe</td>\n",
       "    </tr>\n",
       "    <tr>\n",
       "      <th>3</th>\n",
       "      <td>never pay</td>\n",
       "      <td>soft</td>\n",
       "      <td>good</td>\n",
       "      <td>dry</td>\n",
       "      <td>dry</td>\n",
       "      <td>machine dbh</td>\n",
       "      <td>borehole</td>\n",
       "      <td>groundwater</td>\n",
       "      <td>communal standpipe multiple</td>\n",
       "      <td>communal standpipe</td>\n",
       "    </tr>\n",
       "    <tr>\n",
       "      <th>4</th>\n",
       "      <td>never pay</td>\n",
       "      <td>soft</td>\n",
       "      <td>good</td>\n",
       "      <td>seasonal</td>\n",
       "      <td>seasonal</td>\n",
       "      <td>rainwater harvesting</td>\n",
       "      <td>rainwater harvesting</td>\n",
       "      <td>surface</td>\n",
       "      <td>communal standpipe</td>\n",
       "      <td>communal standpipe</td>\n",
       "    </tr>\n",
       "  </tbody>\n",
       "</table>\n",
       "</div>"
      ],
      "text/plain": [
       "  payment_type water_quality quality_group      quantity quantity_group  \\\n",
       "0     annually          soft          good        enough         enough   \n",
       "1    never pay          soft          good  insufficient   insufficient   \n",
       "2   per bucket          soft          good        enough         enough   \n",
       "3    never pay          soft          good           dry            dry   \n",
       "4    never pay          soft          good      seasonal       seasonal   \n",
       "\n",
       "                 source           source_type source_class  \\\n",
       "0                spring                spring  groundwater   \n",
       "1  rainwater harvesting  rainwater harvesting      surface   \n",
       "2                   dam                   dam      surface   \n",
       "3           machine dbh              borehole  groundwater   \n",
       "4  rainwater harvesting  rainwater harvesting      surface   \n",
       "\n",
       "               waterpoint_type waterpoint_type_group  \n",
       "0           communal standpipe    communal standpipe  \n",
       "1           communal standpipe    communal standpipe  \n",
       "2  communal standpipe multiple    communal standpipe  \n",
       "3  communal standpipe multiple    communal standpipe  \n",
       "4           communal standpipe    communal standpipe  "
      ]
     },
     "execution_count": 12,
     "metadata": {},
     "output_type": "execute_result"
    }
   ],
   "source": [
    "train_data.iloc[:, 30:].head()"
   ]
  },
  {
   "cell_type": "markdown",
   "metadata": {},
   "source": [
    "## 特征解释\n",
    "id\n",
    "\n",
    "### 管理者相关\n",
    "\n",
    "date_recorded: 记录时间，目测不相关，可能存在记录误差\n",
    "\n",
    "recorded_by: 记录人\n",
    "\n",
    "permit: 经过允许的\n",
    "\n",
    "funder: 赞助商\n",
    "\n",
    "installer: 安装方，待确认与目标值的关系\n",
    "\n",
    "scheme_management: 管理方\n",
    "\n",
    "scheme_name: 管理方名称\n",
    "\n",
    "management: 管理者\n",
    "\n",
    "management_group: 管理者组别\n",
    "\n",
    "---\n",
    "\n",
    "---\n",
    "\n",
    "### 地区相关\n",
    "\n",
    "amount_tsh: 处理缺失值，异常值\n",
    "\n",
    "gps_height: gps高度，有缺失值\n",
    "\n",
    "longitude: 经度\n",
    "\n",
    "latitude: 纬度\n",
    "\n",
    "num_private: (无说明)\n",
    "\n",
    "basin: 流域\n",
    "\n",
    "subvillage: 地区\n",
    "\n",
    "region: 地区\n",
    "\n",
    "region_code: 地区code\n",
    "\n",
    "district_code: 二级区域code\n",
    "\n",
    "lga: 地区\n",
    "\n",
    "ward: 地区\n",
    "\n",
    "population: 人口\n",
    "\n",
    "public_meeting: 聚集区？\n",
    "\n",
    "---\n",
    "\n",
    "---\n",
    "\n",
    "### 取水点相关\n",
    "\n",
    "construction_year: 建筑年份\n",
    "\n",
    "wpt_name: 取水点的名字…\n",
    "\n",
    "extraction_type: 抽水类型\n",
    "\n",
    "extraction_type_group: 抽水类型分组\n",
    "\n",
    "extraction_type_class: 抽水类型分类\n",
    "\n",
    "payment: 付费类型\n",
    "\n",
    "payment_type: 付费类型\n",
    "\n",
    "water_quality: 水质\n",
    "\n",
    "quality_group: 水质等级\n",
    "\n",
    "quantity: 水量\n",
    "\n",
    "quantity_group: 水量等级\n",
    "\n",
    "source: 水源（同source_type）\n",
    "\n",
    "source_type:水源类型（收集雨水、水坝、泉水、钻孔等）\n",
    "\n",
    "source_class: 水源类型（地下水、地表水等）\n",
    "\n",
    "waterpoint_type: 取水点类型\n",
    "\n",
    "waterpoint_type_group: 同上\n"
   ]
  },
  {
   "cell_type": "code",
   "execution_count": 24,
   "metadata": {},
   "outputs": [
    {
     "data": {
      "text/plain": [
       "Index(['id', 'amount_tsh', 'date_recorded', 'funder', 'gps_height',\n",
       "       'installer', 'longitude', 'latitude', 'wpt_name', 'num_private',\n",
       "       'basin', 'subvillage', 'region', 'region_code', 'district_code', 'lga',\n",
       "       'ward', 'population', 'public_meeting', 'recorded_by',\n",
       "       'scheme_management', 'scheme_name', 'permit', 'construction_year',\n",
       "       'extraction_type', 'extraction_type_group', 'extraction_type_class',\n",
       "       'management', 'management_group', 'payment', 'payment_type',\n",
       "       'water_quality', 'quality_group', 'quantity', 'quantity_group',\n",
       "       'source', 'source_type', 'source_class', 'waterpoint_type',\n",
       "       'waterpoint_type_group', 'status_group'],\n",
       "      dtype='object')"
      ]
     },
     "execution_count": 24,
     "metadata": {},
     "output_type": "execute_result"
    }
   ],
   "source": [
    "train.columns"
   ]
  },
  {
   "cell_type": "markdown",
   "metadata": {},
   "source": [
    "### 关于funder的信息"
   ]
  },
  {
   "cell_type": "code",
   "execution_count": 289,
   "metadata": {},
   "outputs": [
    {
     "data": {
      "text/plain": [
       "0.0611952861952862"
      ]
     },
     "execution_count": 289,
     "metadata": {},
     "output_type": "execute_result"
    }
   ],
   "source": [
    "miss_rate(train['funder'])"
   ]
  },
  {
   "cell_type": "code",
   "execution_count": 48,
   "metadata": {
    "scrolled": true
   },
   "outputs": [
    {
     "data": {
      "text/html": [
       "<div>\n",
       "<style>\n",
       "    .dataframe thead tr:only-child th {\n",
       "        text-align: right;\n",
       "    }\n",
       "\n",
       "    .dataframe thead th {\n",
       "        text-align: left;\n",
       "    }\n",
       "\n",
       "    .dataframe tbody tr th {\n",
       "        vertical-align: top;\n",
       "    }\n",
       "</style>\n",
       "<table border=\"1\" class=\"dataframe\">\n",
       "  <thead>\n",
       "    <tr style=\"text-align: right;\">\n",
       "      <th>status_group</th>\n",
       "      <th>functional</th>\n",
       "      <th>functional needs repair</th>\n",
       "      <th>non functional</th>\n",
       "      <th>total</th>\n",
       "    </tr>\n",
       "    <tr>\n",
       "      <th>funder</th>\n",
       "      <th></th>\n",
       "      <th></th>\n",
       "      <th></th>\n",
       "      <th></th>\n",
       "    </tr>\n",
       "  </thead>\n",
       "  <tbody>\n",
       "    <tr>\n",
       "      <th>Government Of Tanzania</th>\n",
       "      <td>3720.0</td>\n",
       "      <td>701.0</td>\n",
       "      <td>4663.0</td>\n",
       "      <td>9084.0</td>\n",
       "    </tr>\n",
       "    <tr>\n",
       "      <th>Danida</th>\n",
       "      <td>1713.0</td>\n",
       "      <td>159.0</td>\n",
       "      <td>1242.0</td>\n",
       "      <td>3114.0</td>\n",
       "    </tr>\n",
       "    <tr>\n",
       "      <th>Hesawa</th>\n",
       "      <td>936.0</td>\n",
       "      <td>232.0</td>\n",
       "      <td>1034.0</td>\n",
       "      <td>2202.0</td>\n",
       "    </tr>\n",
       "    <tr>\n",
       "      <th>Rwssp</th>\n",
       "      <td>805.0</td>\n",
       "      <td>109.0</td>\n",
       "      <td>460.0</td>\n",
       "      <td>1374.0</td>\n",
       "    </tr>\n",
       "    <tr>\n",
       "      <th>World Bank</th>\n",
       "      <td>545.0</td>\n",
       "      <td>97.0</td>\n",
       "      <td>707.0</td>\n",
       "      <td>1349.0</td>\n",
       "    </tr>\n",
       "    <tr>\n",
       "      <th>Kkkt</th>\n",
       "      <td>723.0</td>\n",
       "      <td>66.0</td>\n",
       "      <td>498.0</td>\n",
       "      <td>1287.0</td>\n",
       "    </tr>\n",
       "    <tr>\n",
       "      <th>World Vision</th>\n",
       "      <td>743.0</td>\n",
       "      <td>131.0</td>\n",
       "      <td>372.0</td>\n",
       "      <td>1246.0</td>\n",
       "    </tr>\n",
       "    <tr>\n",
       "      <th>Unicef</th>\n",
       "      <td>600.0</td>\n",
       "      <td>99.0</td>\n",
       "      <td>358.0</td>\n",
       "      <td>1057.0</td>\n",
       "    </tr>\n",
       "    <tr>\n",
       "      <th>Tasaf</th>\n",
       "      <td>493.0</td>\n",
       "      <td>64.0</td>\n",
       "      <td>320.0</td>\n",
       "      <td>877.0</td>\n",
       "    </tr>\n",
       "    <tr>\n",
       "      <th>District Council</th>\n",
       "      <td>378.0</td>\n",
       "      <td>45.0</td>\n",
       "      <td>420.0</td>\n",
       "      <td>843.0</td>\n",
       "    </tr>\n",
       "    <tr>\n",
       "      <th>Dhv</th>\n",
       "      <td>469.0</td>\n",
       "      <td>59.0</td>\n",
       "      <td>301.0</td>\n",
       "      <td>829.0</td>\n",
       "    </tr>\n",
       "    <tr>\n",
       "      <th>Private Individual</th>\n",
       "      <td>690.0</td>\n",
       "      <td>18.0</td>\n",
       "      <td>118.0</td>\n",
       "      <td>826.0</td>\n",
       "    </tr>\n",
       "    <tr>\n",
       "      <th>Dwsp</th>\n",
       "      <td>371.0</td>\n",
       "      <td>225.0</td>\n",
       "      <td>215.0</td>\n",
       "      <td>811.0</td>\n",
       "    </tr>\n",
       "    <tr>\n",
       "      <th>0</th>\n",
       "      <td>445.0</td>\n",
       "      <td>3.0</td>\n",
       "      <td>329.0</td>\n",
       "      <td>777.0</td>\n",
       "    </tr>\n",
       "    <tr>\n",
       "      <th>Norad</th>\n",
       "      <td>259.0</td>\n",
       "      <td>165.0</td>\n",
       "      <td>341.0</td>\n",
       "      <td>765.0</td>\n",
       "    </tr>\n",
       "    <tr>\n",
       "      <th>Germany Republi</th>\n",
       "      <td>538.0</td>\n",
       "      <td>1.0</td>\n",
       "      <td>71.0</td>\n",
       "      <td>610.0</td>\n",
       "    </tr>\n",
       "    <tr>\n",
       "      <th>Tcrs</th>\n",
       "      <td>241.0</td>\n",
       "      <td>37.0</td>\n",
       "      <td>324.0</td>\n",
       "      <td>602.0</td>\n",
       "    </tr>\n",
       "    <tr>\n",
       "      <th>Ministry Of Water</th>\n",
       "      <td>192.0</td>\n",
       "      <td>19.0</td>\n",
       "      <td>379.0</td>\n",
       "      <td>590.0</td>\n",
       "    </tr>\n",
       "    <tr>\n",
       "      <th>Water</th>\n",
       "      <td>258.0</td>\n",
       "      <td>78.0</td>\n",
       "      <td>247.0</td>\n",
       "      <td>583.0</td>\n",
       "    </tr>\n",
       "    <tr>\n",
       "      <th>Dwe</th>\n",
       "      <td>215.0</td>\n",
       "      <td>24.0</td>\n",
       "      <td>245.0</td>\n",
       "      <td>484.0</td>\n",
       "    </tr>\n",
       "    <tr>\n",
       "      <th>Netherlands</th>\n",
       "      <td>343.0</td>\n",
       "      <td>14.0</td>\n",
       "      <td>113.0</td>\n",
       "      <td>470.0</td>\n",
       "    </tr>\n",
       "    <tr>\n",
       "      <th>Hifab</th>\n",
       "      <td>323.0</td>\n",
       "      <td>0.0</td>\n",
       "      <td>127.0</td>\n",
       "      <td>450.0</td>\n",
       "    </tr>\n",
       "    <tr>\n",
       "      <th>Adb</th>\n",
       "      <td>341.0</td>\n",
       "      <td>20.0</td>\n",
       "      <td>87.0</td>\n",
       "      <td>448.0</td>\n",
       "    </tr>\n",
       "    <tr>\n",
       "      <th>Lga</th>\n",
       "      <td>130.0</td>\n",
       "      <td>90.0</td>\n",
       "      <td>222.0</td>\n",
       "      <td>442.0</td>\n",
       "    </tr>\n",
       "    <tr>\n",
       "      <th>Amref</th>\n",
       "      <td>180.0</td>\n",
       "      <td>6.0</td>\n",
       "      <td>239.0</td>\n",
       "      <td>425.0</td>\n",
       "    </tr>\n",
       "    <tr>\n",
       "      <th>Fini Water</th>\n",
       "      <td>51.0</td>\n",
       "      <td>12.0</td>\n",
       "      <td>330.0</td>\n",
       "      <td>393.0</td>\n",
       "    </tr>\n",
       "    <tr>\n",
       "      <th>Oxfam</th>\n",
       "      <td>238.0</td>\n",
       "      <td>47.0</td>\n",
       "      <td>74.0</td>\n",
       "      <td>359.0</td>\n",
       "    </tr>\n",
       "    <tr>\n",
       "      <th>Wateraid</th>\n",
       "      <td>243.0</td>\n",
       "      <td>17.0</td>\n",
       "      <td>73.0</td>\n",
       "      <td>333.0</td>\n",
       "    </tr>\n",
       "    <tr>\n",
       "      <th>Rc Church</th>\n",
       "      <td>268.0</td>\n",
       "      <td>17.0</td>\n",
       "      <td>36.0</td>\n",
       "      <td>321.0</td>\n",
       "    </tr>\n",
       "    <tr>\n",
       "      <th>Isf</th>\n",
       "      <td>142.0</td>\n",
       "      <td>113.0</td>\n",
       "      <td>61.0</td>\n",
       "      <td>316.0</td>\n",
       "    </tr>\n",
       "    <tr>\n",
       "      <th>...</th>\n",
       "      <td>...</td>\n",
       "      <td>...</td>\n",
       "      <td>...</td>\n",
       "      <td>...</td>\n",
       "    </tr>\n",
       "    <tr>\n",
       "      <th>Mahita</th>\n",
       "      <td>0.0</td>\n",
       "      <td>0.0</td>\n",
       "      <td>1.0</td>\n",
       "      <td>1.0</td>\n",
       "    </tr>\n",
       "    <tr>\n",
       "      <th>Makonder</th>\n",
       "      <td>1.0</td>\n",
       "      <td>0.0</td>\n",
       "      <td>0.0</td>\n",
       "      <td>1.0</td>\n",
       "    </tr>\n",
       "    <tr>\n",
       "      <th>Mahemba</th>\n",
       "      <td>1.0</td>\n",
       "      <td>0.0</td>\n",
       "      <td>0.0</td>\n",
       "      <td>1.0</td>\n",
       "    </tr>\n",
       "    <tr>\n",
       "      <th>Magutu Maro</th>\n",
       "      <td>1.0</td>\n",
       "      <td>0.0</td>\n",
       "      <td>0.0</td>\n",
       "      <td>1.0</td>\n",
       "    </tr>\n",
       "    <tr>\n",
       "      <th>Magul</th>\n",
       "      <td>1.0</td>\n",
       "      <td>0.0</td>\n",
       "      <td>0.0</td>\n",
       "      <td>1.0</td>\n",
       "    </tr>\n",
       "    <tr>\n",
       "      <th>Magu Food Security</th>\n",
       "      <td>1.0</td>\n",
       "      <td>0.0</td>\n",
       "      <td>0.0</td>\n",
       "      <td>1.0</td>\n",
       "    </tr>\n",
       "    <tr>\n",
       "      <th>Magige</th>\n",
       "      <td>1.0</td>\n",
       "      <td>0.0</td>\n",
       "      <td>0.0</td>\n",
       "      <td>1.0</td>\n",
       "    </tr>\n",
       "    <tr>\n",
       "      <th>Magani</th>\n",
       "      <td>0.0</td>\n",
       "      <td>0.0</td>\n",
       "      <td>1.0</td>\n",
       "      <td>1.0</td>\n",
       "    </tr>\n",
       "    <tr>\n",
       "      <th>Mafwimbo</th>\n",
       "      <td>1.0</td>\n",
       "      <td>0.0</td>\n",
       "      <td>0.0</td>\n",
       "      <td>1.0</td>\n",
       "    </tr>\n",
       "    <tr>\n",
       "      <th>Makondakonde Water Population</th>\n",
       "      <td>0.0</td>\n",
       "      <td>0.0</td>\n",
       "      <td>1.0</td>\n",
       "      <td>1.0</td>\n",
       "    </tr>\n",
       "    <tr>\n",
       "      <th>Makori</th>\n",
       "      <td>1.0</td>\n",
       "      <td>0.0</td>\n",
       "      <td>0.0</td>\n",
       "      <td>1.0</td>\n",
       "    </tr>\n",
       "    <tr>\n",
       "      <th>Maseka Community</th>\n",
       "      <td>1.0</td>\n",
       "      <td>0.0</td>\n",
       "      <td>0.0</td>\n",
       "      <td>1.0</td>\n",
       "    </tr>\n",
       "    <tr>\n",
       "      <th>Mango Tree</th>\n",
       "      <td>0.0</td>\n",
       "      <td>0.0</td>\n",
       "      <td>1.0</td>\n",
       "      <td>1.0</td>\n",
       "    </tr>\n",
       "    <tr>\n",
       "      <th>Masai Land</th>\n",
       "      <td>1.0</td>\n",
       "      <td>0.0</td>\n",
       "      <td>0.0</td>\n",
       "      <td>1.0</td>\n",
       "    </tr>\n",
       "    <tr>\n",
       "      <th>Marumbo Community</th>\n",
       "      <td>0.0</td>\n",
       "      <td>0.0</td>\n",
       "      <td>1.0</td>\n",
       "      <td>1.0</td>\n",
       "    </tr>\n",
       "    <tr>\n",
       "      <th>Maro Kyariga</th>\n",
       "      <td>1.0</td>\n",
       "      <td>0.0</td>\n",
       "      <td>0.0</td>\n",
       "      <td>1.0</td>\n",
       "    </tr>\n",
       "    <tr>\n",
       "      <th>Marke</th>\n",
       "      <td>1.0</td>\n",
       "      <td>0.0</td>\n",
       "      <td>0.0</td>\n",
       "      <td>1.0</td>\n",
       "    </tr>\n",
       "    <tr>\n",
       "      <th>Marafin</th>\n",
       "      <td>0.0</td>\n",
       "      <td>0.0</td>\n",
       "      <td>1.0</td>\n",
       "      <td>1.0</td>\n",
       "    </tr>\n",
       "    <tr>\n",
       "      <th>Manyovu Agriculture Institute</th>\n",
       "      <td>1.0</td>\n",
       "      <td>0.0</td>\n",
       "      <td>0.0</td>\n",
       "      <td>1.0</td>\n",
       "    </tr>\n",
       "    <tr>\n",
       "      <th>Manyota Primary School</th>\n",
       "      <td>1.0</td>\n",
       "      <td>0.0</td>\n",
       "      <td>0.0</td>\n",
       "      <td>1.0</td>\n",
       "    </tr>\n",
       "    <tr>\n",
       "      <th>Mamvua Kakungu</th>\n",
       "      <td>0.0</td>\n",
       "      <td>0.0</td>\n",
       "      <td>1.0</td>\n",
       "      <td>1.0</td>\n",
       "    </tr>\n",
       "    <tr>\n",
       "      <th>Makundya</th>\n",
       "      <td>1.0</td>\n",
       "      <td>0.0</td>\n",
       "      <td>0.0</td>\n",
       "      <td>1.0</td>\n",
       "    </tr>\n",
       "    <tr>\n",
       "      <th>Mambe</th>\n",
       "      <td>1.0</td>\n",
       "      <td>0.0</td>\n",
       "      <td>0.0</td>\n",
       "      <td>1.0</td>\n",
       "    </tr>\n",
       "    <tr>\n",
       "      <th>Mamaz</th>\n",
       "      <td>1.0</td>\n",
       "      <td>0.0</td>\n",
       "      <td>0.0</td>\n",
       "      <td>1.0</td>\n",
       "    </tr>\n",
       "    <tr>\n",
       "      <th>Mama Ku</th>\n",
       "      <td>1.0</td>\n",
       "      <td>0.0</td>\n",
       "      <td>0.0</td>\n",
       "      <td>1.0</td>\n",
       "    </tr>\n",
       "    <tr>\n",
       "      <th>Malola</th>\n",
       "      <td>0.0</td>\n",
       "      <td>0.0</td>\n",
       "      <td>1.0</td>\n",
       "      <td>1.0</td>\n",
       "    </tr>\n",
       "    <tr>\n",
       "      <th>Maliasili</th>\n",
       "      <td>1.0</td>\n",
       "      <td>0.0</td>\n",
       "      <td>0.0</td>\n",
       "      <td>1.0</td>\n",
       "    </tr>\n",
       "    <tr>\n",
       "      <th>Males</th>\n",
       "      <td>1.0</td>\n",
       "      <td>0.0</td>\n",
       "      <td>0.0</td>\n",
       "      <td>1.0</td>\n",
       "    </tr>\n",
       "    <tr>\n",
       "      <th>Makusa</th>\n",
       "      <td>1.0</td>\n",
       "      <td>0.0</td>\n",
       "      <td>0.0</td>\n",
       "      <td>1.0</td>\n",
       "    </tr>\n",
       "    <tr>\n",
       "      <th>Zingibali Secondary</th>\n",
       "      <td>1.0</td>\n",
       "      <td>0.0</td>\n",
       "      <td>0.0</td>\n",
       "      <td>1.0</td>\n",
       "    </tr>\n",
       "  </tbody>\n",
       "</table>\n",
       "<p>1897 rows × 4 columns</p>\n",
       "</div>"
      ],
      "text/plain": [
       "status_group                   functional  functional needs repair  \\\n",
       "funder                                                               \n",
       "Government Of Tanzania             3720.0                    701.0   \n",
       "Danida                             1713.0                    159.0   \n",
       "Hesawa                              936.0                    232.0   \n",
       "Rwssp                               805.0                    109.0   \n",
       "World Bank                          545.0                     97.0   \n",
       "Kkkt                                723.0                     66.0   \n",
       "World Vision                        743.0                    131.0   \n",
       "Unicef                              600.0                     99.0   \n",
       "Tasaf                               493.0                     64.0   \n",
       "District Council                    378.0                     45.0   \n",
       "Dhv                                 469.0                     59.0   \n",
       "Private Individual                  690.0                     18.0   \n",
       "Dwsp                                371.0                    225.0   \n",
       "0                                   445.0                      3.0   \n",
       "Norad                               259.0                    165.0   \n",
       "Germany Republi                     538.0                      1.0   \n",
       "Tcrs                                241.0                     37.0   \n",
       "Ministry Of Water                   192.0                     19.0   \n",
       "Water                               258.0                     78.0   \n",
       "Dwe                                 215.0                     24.0   \n",
       "Netherlands                         343.0                     14.0   \n",
       "Hifab                               323.0                      0.0   \n",
       "Adb                                 341.0                     20.0   \n",
       "Lga                                 130.0                     90.0   \n",
       "Amref                               180.0                      6.0   \n",
       "Fini Water                           51.0                     12.0   \n",
       "Oxfam                               238.0                     47.0   \n",
       "Wateraid                            243.0                     17.0   \n",
       "Rc Church                           268.0                     17.0   \n",
       "Isf                                 142.0                    113.0   \n",
       "...                                   ...                      ...   \n",
       "Mahita                                0.0                      0.0   \n",
       "Makonder                              1.0                      0.0   \n",
       "Mahemba                               1.0                      0.0   \n",
       "Magutu Maro                           1.0                      0.0   \n",
       "Magul                                 1.0                      0.0   \n",
       "Magu Food Security                    1.0                      0.0   \n",
       "Magige                                1.0                      0.0   \n",
       "Magani                                0.0                      0.0   \n",
       "Mafwimbo                              1.0                      0.0   \n",
       "Makondakonde Water Population         0.0                      0.0   \n",
       "Makori                                1.0                      0.0   \n",
       "Maseka Community                      1.0                      0.0   \n",
       "Mango Tree                            0.0                      0.0   \n",
       "Masai Land                            1.0                      0.0   \n",
       "Marumbo Community                     0.0                      0.0   \n",
       "Maro Kyariga                          1.0                      0.0   \n",
       "Marke                                 1.0                      0.0   \n",
       "Marafin                               0.0                      0.0   \n",
       "Manyovu Agriculture Institute         1.0                      0.0   \n",
       "Manyota Primary School                1.0                      0.0   \n",
       "Mamvua Kakungu                        0.0                      0.0   \n",
       "Makundya                              1.0                      0.0   \n",
       "Mambe                                 1.0                      0.0   \n",
       "Mamaz                                 1.0                      0.0   \n",
       "Mama Ku                               1.0                      0.0   \n",
       "Malola                                0.0                      0.0   \n",
       "Maliasili                             1.0                      0.0   \n",
       "Males                                 1.0                      0.0   \n",
       "Makusa                                1.0                      0.0   \n",
       "Zingibali Secondary                   1.0                      0.0   \n",
       "\n",
       "status_group                   non functional   total  \n",
       "funder                                                 \n",
       "Government Of Tanzania                 4663.0  9084.0  \n",
       "Danida                                 1242.0  3114.0  \n",
       "Hesawa                                 1034.0  2202.0  \n",
       "Rwssp                                   460.0  1374.0  \n",
       "World Bank                              707.0  1349.0  \n",
       "Kkkt                                    498.0  1287.0  \n",
       "World Vision                            372.0  1246.0  \n",
       "Unicef                                  358.0  1057.0  \n",
       "Tasaf                                   320.0   877.0  \n",
       "District Council                        420.0   843.0  \n",
       "Dhv                                     301.0   829.0  \n",
       "Private Individual                      118.0   826.0  \n",
       "Dwsp                                    215.0   811.0  \n",
       "0                                       329.0   777.0  \n",
       "Norad                                   341.0   765.0  \n",
       "Germany Republi                          71.0   610.0  \n",
       "Tcrs                                    324.0   602.0  \n",
       "Ministry Of Water                       379.0   590.0  \n",
       "Water                                   247.0   583.0  \n",
       "Dwe                                     245.0   484.0  \n",
       "Netherlands                             113.0   470.0  \n",
       "Hifab                                   127.0   450.0  \n",
       "Adb                                      87.0   448.0  \n",
       "Lga                                     222.0   442.0  \n",
       "Amref                                   239.0   425.0  \n",
       "Fini Water                              330.0   393.0  \n",
       "Oxfam                                    74.0   359.0  \n",
       "Wateraid                                 73.0   333.0  \n",
       "Rc Church                                36.0   321.0  \n",
       "Isf                                      61.0   316.0  \n",
       "...                                       ...     ...  \n",
       "Mahita                                    1.0     1.0  \n",
       "Makonder                                  0.0     1.0  \n",
       "Mahemba                                   0.0     1.0  \n",
       "Magutu Maro                               0.0     1.0  \n",
       "Magul                                     0.0     1.0  \n",
       "Magu Food Security                        0.0     1.0  \n",
       "Magige                                    0.0     1.0  \n",
       "Magani                                    1.0     1.0  \n",
       "Mafwimbo                                  0.0     1.0  \n",
       "Makondakonde Water Population             1.0     1.0  \n",
       "Makori                                    0.0     1.0  \n",
       "Maseka Community                          0.0     1.0  \n",
       "Mango Tree                                1.0     1.0  \n",
       "Masai Land                                0.0     1.0  \n",
       "Marumbo Community                         1.0     1.0  \n",
       "Maro Kyariga                              0.0     1.0  \n",
       "Marke                                     0.0     1.0  \n",
       "Marafin                                   1.0     1.0  \n",
       "Manyovu Agriculture Institute             0.0     1.0  \n",
       "Manyota Primary School                    0.0     1.0  \n",
       "Mamvua Kakungu                            1.0     1.0  \n",
       "Makundya                                  0.0     1.0  \n",
       "Mambe                                     0.0     1.0  \n",
       "Mamaz                                     0.0     1.0  \n",
       "Mama Ku                                   0.0     1.0  \n",
       "Malola                                    1.0     1.0  \n",
       "Maliasili                                 0.0     1.0  \n",
       "Males                                     0.0     1.0  \n",
       "Makusa                                    0.0     1.0  \n",
       "Zingibali Secondary                       0.0     1.0  \n",
       "\n",
       "[1897 rows x 4 columns]"
      ]
     },
     "execution_count": 48,
     "metadata": {},
     "output_type": "execute_result"
    }
   ],
   "source": [
    "# pd.pivot_table(data=train, index='funder', columns='status_group', values='id', aggfunc=len).fillna(0)\n",
    "\n",
    "funder_cnt = train.groupby(['funder', 'status_group'])['id'].count().unstack(level=-1).fillna(0)\n",
    "funder_cnt['total'] = funder_cnt.sum(axis=1)\n",
    "funder_cnt.sort_values(by='total', ascending=False)"
   ]
  },
  {
   "cell_type": "code",
   "execution_count": 51,
   "metadata": {},
   "outputs": [
    {
     "data": {
      "text/html": [
       "<div>\n",
       "<style>\n",
       "    .dataframe thead tr:only-child th {\n",
       "        text-align: right;\n",
       "    }\n",
       "\n",
       "    .dataframe thead th {\n",
       "        text-align: left;\n",
       "    }\n",
       "\n",
       "    .dataframe tbody tr th {\n",
       "        vertical-align: top;\n",
       "    }\n",
       "</style>\n",
       "<table border=\"1\" class=\"dataframe\">\n",
       "  <thead>\n",
       "    <tr style=\"text-align: right;\">\n",
       "      <th>status_group</th>\n",
       "      <th>functional</th>\n",
       "      <th>functional needs repair</th>\n",
       "      <th>non functional</th>\n",
       "      <th>total</th>\n",
       "    </tr>\n",
       "  </thead>\n",
       "  <tbody>\n",
       "    <tr>\n",
       "      <th>count</th>\n",
       "      <td>1897.000000</td>\n",
       "      <td>1897.000000</td>\n",
       "      <td>1897.000000</td>\n",
       "      <td>1897.000000</td>\n",
       "    </tr>\n",
       "    <tr>\n",
       "      <th>mean</th>\n",
       "      <td>15.960991</td>\n",
       "      <td>2.045335</td>\n",
       "      <td>11.390090</td>\n",
       "      <td>29.396415</td>\n",
       "    </tr>\n",
       "    <tr>\n",
       "      <th>std</th>\n",
       "      <td>110.468467</td>\n",
       "      <td>19.861972</td>\n",
       "      <td>119.271137</td>\n",
       "      <td>244.900445</td>\n",
       "    </tr>\n",
       "    <tr>\n",
       "      <th>min</th>\n",
       "      <td>0.000000</td>\n",
       "      <td>0.000000</td>\n",
       "      <td>0.000000</td>\n",
       "      <td>1.000000</td>\n",
       "    </tr>\n",
       "    <tr>\n",
       "      <th>25%</th>\n",
       "      <td>0.000000</td>\n",
       "      <td>0.000000</td>\n",
       "      <td>0.000000</td>\n",
       "      <td>1.000000</td>\n",
       "    </tr>\n",
       "    <tr>\n",
       "      <th>50%</th>\n",
       "      <td>1.000000</td>\n",
       "      <td>0.000000</td>\n",
       "      <td>1.000000</td>\n",
       "      <td>1.000000</td>\n",
       "    </tr>\n",
       "    <tr>\n",
       "      <th>75%</th>\n",
       "      <td>3.000000</td>\n",
       "      <td>0.000000</td>\n",
       "      <td>2.000000</td>\n",
       "      <td>7.000000</td>\n",
       "    </tr>\n",
       "    <tr>\n",
       "      <th>max</th>\n",
       "      <td>3720.000000</td>\n",
       "      <td>701.000000</td>\n",
       "      <td>4663.000000</td>\n",
       "      <td>9084.000000</td>\n",
       "    </tr>\n",
       "  </tbody>\n",
       "</table>\n",
       "</div>"
      ],
      "text/plain": [
       "status_group   functional  functional needs repair  non functional  \\\n",
       "count         1897.000000              1897.000000     1897.000000   \n",
       "mean            15.960991                 2.045335       11.390090   \n",
       "std            110.468467                19.861972      119.271137   \n",
       "min              0.000000                 0.000000        0.000000   \n",
       "25%              0.000000                 0.000000        0.000000   \n",
       "50%              1.000000                 0.000000        1.000000   \n",
       "75%              3.000000                 0.000000        2.000000   \n",
       "max           3720.000000               701.000000     4663.000000   \n",
       "\n",
       "status_group        total  \n",
       "count         1897.000000  \n",
       "mean            29.396415  \n",
       "std            244.900445  \n",
       "min              1.000000  \n",
       "25%              1.000000  \n",
       "50%              1.000000  \n",
       "75%              7.000000  \n",
       "max           9084.000000  "
      ]
     },
     "execution_count": 51,
     "metadata": {},
     "output_type": "execute_result"
    }
   ],
   "source": [
    "funder_cnt.describe()"
   ]
  },
  {
   "cell_type": "code",
   "execution_count": 50,
   "metadata": {},
   "outputs": [
    {
     "data": {
      "text/plain": [
       "<matplotlib.axes._subplots.AxesSubplot at 0x2591a1042e8>"
      ]
     },
     "execution_count": 50,
     "metadata": {},
     "output_type": "execute_result"
    },
    {
     "data": {
      "image/png": "[encoded data removed]",
      "text/plain": [
       "<matplotlib.figure.Figure at 0x2591a032898>"
      ]
     },
     "metadata": {},
     "output_type": "display_data"
    }
   ],
   "source": [
    "fig, ax = plt.subplots(nrows=1, ncols=1, figsize=(7,5))\n",
    "sns.distplot(funder_cnt['total'], ax=ax)"
   ]
  },
  {
   "cell_type": "markdown",
   "metadata": {},
   "source": [
    "### 关于permit的信息\n",
    "\n",
    "似乎True和False差别不大"
   ]
  },
  {
   "cell_type": "code",
   "execution_count": 70,
   "metadata": {
    "collapsed": true
   },
   "outputs": [],
   "source": [
    "permit_cnt = train.groupby(['permit', 'status_group'])['id'].count().reset_index()"
   ]
  },
  {
   "cell_type": "code",
   "execution_count": 71,
   "metadata": {},
   "outputs": [
    {
     "data": {
      "text/html": [
       "<div>\n",
       "<style>\n",
       "    .dataframe thead tr:only-child th {\n",
       "        text-align: right;\n",
       "    }\n",
       "\n",
       "    .dataframe thead th {\n",
       "        text-align: left;\n",
       "    }\n",
       "\n",
       "    .dataframe tbody tr th {\n",
       "        vertical-align: top;\n",
       "    }\n",
       "</style>\n",
       "<table border=\"1\" class=\"dataframe\">\n",
       "  <thead>\n",
       "    <tr style=\"text-align: right;\">\n",
       "      <th></th>\n",
       "      <th>permit</th>\n",
       "      <th>status_group</th>\n",
       "      <th>id</th>\n",
       "    </tr>\n",
       "  </thead>\n",
       "  <tbody>\n",
       "    <tr>\n",
       "      <th>0</th>\n",
       "      <td>False</td>\n",
       "      <td>functional</td>\n",
       "      <td>9045</td>\n",
       "    </tr>\n",
       "    <tr>\n",
       "      <th>1</th>\n",
       "      <td>False</td>\n",
       "      <td>functional needs repair</td>\n",
       "      <td>1320</td>\n",
       "    </tr>\n",
       "    <tr>\n",
       "      <th>2</th>\n",
       "      <td>False</td>\n",
       "      <td>non functional</td>\n",
       "      <td>7127</td>\n",
       "    </tr>\n",
       "    <tr>\n",
       "      <th>3</th>\n",
       "      <td>True</td>\n",
       "      <td>functional</td>\n",
       "      <td>21541</td>\n",
       "    </tr>\n",
       "    <tr>\n",
       "      <th>4</th>\n",
       "      <td>True</td>\n",
       "      <td>functional needs repair</td>\n",
       "      <td>2697</td>\n",
       "    </tr>\n",
       "    <tr>\n",
       "      <th>5</th>\n",
       "      <td>True</td>\n",
       "      <td>non functional</td>\n",
       "      <td>14614</td>\n",
       "    </tr>\n",
       "  </tbody>\n",
       "</table>\n",
       "</div>"
      ],
      "text/plain": [
       "   permit             status_group     id\n",
       "0   False               functional   9045\n",
       "1   False  functional needs repair   1320\n",
       "2   False           non functional   7127\n",
       "3    True               functional  21541\n",
       "4    True  functional needs repair   2697\n",
       "5    True           non functional  14614"
      ]
     },
     "execution_count": 71,
     "metadata": {},
     "output_type": "execute_result"
    }
   ],
   "source": [
    "permit_cnt"
   ]
  },
  {
   "cell_type": "code",
   "execution_count": 81,
   "metadata": {},
   "outputs": [
    {
     "data": {
      "text/plain": [
       "<matplotlib.axes._subplots.AxesSubplot at 0x2591aaafda0>"
      ]
     },
     "execution_count": 81,
     "metadata": {},
     "output_type": "execute_result"
    },
    {
     "data": {
      "image/png": "[encoded data removed]",
      "text/plain": [
       "<matplotlib.figure.Figure at 0x2591b4caba8>"
      ]
     },
     "metadata": {},
     "output_type": "display_data"
    }
   ],
   "source": [
    "# 画图，左边是permit=False，右边是permit=True\n",
    "fig, (ax0, ax1) = plt.subplots(nrows=1, ncols=2, figsize=(12, 5))\n",
    "\n",
    "sns.barplot(data=permit_cnt[permit_cnt['permit']==False], x='status_group', y='id', ax=ax0)\n",
    "sns.barplot(data=permit_cnt[permit_cnt['permit']==True], x='status_group', y='id', ax=ax1)"
   ]
  },
  {
   "cell_type": "markdown",
   "metadata": {
    "collapsed": true
   },
   "source": [
    "## 地区相关\n",
    "### amount_tsh"
   ]
  },
  {
   "cell_type": "code",
   "execution_count": 4,
   "metadata": {
    "collapsed": true
   },
   "outputs": [],
   "source": [
    "amount_tsh = train[['amount_tsh', 'status_group']]"
   ]
  },
  {
   "cell_type": "code",
   "execution_count": 26,
   "metadata": {},
   "outputs": [
    {
     "data": {
      "text/plain": [
       "amount_tsh      0.299007\n",
       "status_group    0.299007\n",
       "dtype: float64"
      ]
     },
     "execution_count": 26,
     "metadata": {},
     "output_type": "execute_result"
    }
   ],
   "source": [
    "amount_tsh[amount_tsh['amount_tsh'] > 0].count() / amount_tsh.shape[0]\n",
    "\n",
    "# 29.9%的amount_tsh不为0, 另外的70.1%为0\n",
    "\n",
    "amount_tsh_pos = amount_tsh[amount_tsh['amount_tsh'] > 0]"
   ]
  },
  {
   "cell_type": "code",
   "execution_count": 34,
   "metadata": {},
   "outputs": [
    {
     "data": {
      "text/plain": [
       "amount_tsh      0.986656\n",
       "status_group    0.986656\n",
       "dtype: float64"
      ]
     },
     "execution_count": 34,
     "metadata": {},
     "output_type": "execute_result"
    }
   ],
   "source": [
    "amount_tsh_pos[amount_tsh_pos['amount_tsh'] < 10000].count() / amount_tsh_pos.shape[0]\n",
    "\n",
    "# 大于0的点中，98.67%的值小于10000"
   ]
  },
  {
   "cell_type": "code",
   "execution_count": 31,
   "metadata": {},
   "outputs": [
    {
     "data": {
      "text/plain": [
       "<matplotlib.axes._subplots.AxesSubplot at 0xd9476a0>"
      ]
     },
     "execution_count": 31,
     "metadata": {},
     "output_type": "execute_result"
    },
    {
     "data": {
      "image/png": "[encoded data removed]",
      "text/plain": [
       "<matplotlib.figure.Figure at 0xd925c50>"
      ]
     },
     "metadata": {},
     "output_type": "display_data"
    }
   ],
   "source": [
    "fig, ax = plt.subplots(nrows=1, ncols=1, figsize=(6, 6))\n",
    "sns.boxplot(amount_tsh_pos['status_group'], amount_tsh_pos['amount_tsh'], ax=ax)\n",
    "sns.stripplot(amount_tsh_pos['status_group'], amount_tsh_pos['amount_tsh'], jitter=True, ax=ax)"
   ]
  },
  {
   "cell_type": "code",
   "execution_count": 36,
   "metadata": {},
   "outputs": [
    {
     "data": {
      "text/plain": [
       "<matplotlib.axes._subplots.AxesSubplot at 0xda91320>"
      ]
     },
     "execution_count": 36,
     "metadata": {},
     "output_type": "execute_result"
    },
    {
     "data": {
      "image/png": "[encoded data removed]",
      "text/plain": [
       "<matplotlib.figure.Figure at 0xda823c8>"
      ]
     },
     "metadata": {},
     "output_type": "display_data"
    }
   ],
   "source": [
    "fig, ax = plt.subplots(nrows=1, ncols=1, figsize=(6, 6))\n",
    "sns.boxplot(amount_tsh_pos['status_group'], np.log1p(amount_tsh_pos['amount_tsh']), ax=ax)\n",
    "sns.stripplot(amount_tsh_pos['status_group'], np.log1p(amount_tsh_pos['amount_tsh']), jitter=True, ax=ax)"
   ]
  },
  {
   "cell_type": "code",
   "execution_count": 23,
   "metadata": {},
   "outputs": [
    {
     "data": {
      "text/plain": [
       "0.70099326599326595"
      ]
     },
     "execution_count": 23,
     "metadata": {},
     "output_type": "execute_result"
    }
   ],
   "source": [
    "# sns.distplot(train[train['amount_tsh']>0]['amount_tsh'])\n",
    "# sns.distplot(train['amount_tsh'])\n",
    "# train[(train['amount_tsh'] > 0) & (train['amount_tsh'] < 1000)]['amount_tsh'].count() / train['amount_tsh'].count()\n",
    "train[(train['amount_tsh'] == 0)]['amount_tsh'].count() / train['amount_tsh'].count()"
   ]
  },
  {
   "cell_type": "markdown",
   "metadata": {},
   "source": [
    "## 地区相关\n",
    "\n",
    "gps_height: gps高度，有缺失值\n",
    "\n",
    "longitude: 经度\n",
    "\n",
    "latitude: 纬度"
   ]
  },
  {
   "cell_type": "code",
   "execution_count": null,
   "metadata": {
    "collapsed": true
   },
   "outputs": [],
   "source": [
    "hei_long_la = train['gps_height', 'longitude', 'latitude', 'status_group']"
   ]
  },
  {
   "cell_type": "code",
   "execution_count": 43,
   "metadata": {},
   "outputs": [
    {
     "name": "stdout",
     "output_type": "stream",
     "text": [
      "miss rate of amount_tsh:  0.7009932659932661\n",
      "miss rate of gps_height:  0.3440740740740741\n",
      "miss rate of longitude:  0.03050505050505048\n",
      "miss rate of latitude:  0.0\n"
     ]
    }
   ],
   "source": [
    "print(\"miss rate of amount_tsh: \", miss_rate(train['amount_tsh']))\n",
    "print(\"miss rate of gps_height: \", miss_rate(train['gps_height']))\n",
    "print(\"miss rate of longitude: \", miss_rate(train['longitude']))\n",
    "print(\"miss rate of latitude: \", miss_rate(train['latitude']))"
   ]
  },
  {
   "cell_type": "code",
   "execution_count": 45,
   "metadata": {},
   "outputs": [
    {
     "data": {
      "text/plain": [
       "<matplotlib.axes._subplots.AxesSubplot at 0xdc002e8>"
      ]
     },
     "execution_count": 45,
     "metadata": {},
     "output_type": "execute_result"
    },
    {
     "data": {
      "image/png": "[encoded data removed]",
      "text/plain": [
       "<matplotlib.figure.Figure at 0xdd36630>"
      ]
     },
     "metadata": {},
     "output_type": "display_data"
    }
   ],
   "source": [
    "fig, ax = plt.subplots(nrows=1, ncols=1, figsize=(6, 6))\n",
    "sns.boxplot(train['status_group'], train['gps_height'], ax=ax)\n",
    "sns.stripplot(train['status_group'], train['gps_height'], jitter=True, ax=ax)"
   ]
  },
  {
   "cell_type": "code",
   "execution_count": 70,
   "metadata": {},
   "outputs": [
    {
     "data": {
      "text/plain": [
       "array(['functional', 'non functional', 'functional needs repair'], dtype=object)"
      ]
     },
     "execution_count": 70,
     "metadata": {},
     "output_type": "execute_result"
    }
   ],
   "source": [
    "\n",
    "long_lati_pos['status_group'].unique()"
   ]
  },
  {
   "cell_type": "code",
   "execution_count": 81,
   "metadata": {},
   "outputs": [
    {
     "data": {
      "text/plain": [
       "<matplotlib.collections.PathCollection at 0x16fa68d0>"
      ]
     },
     "execution_count": 81,
     "metadata": {},
     "output_type": "execute_result"
    },
    {
     "data": {
      "image/png": "[encoded data removed]",
      "text/plain": [
       "<matplotlib.figure.Figure at 0xe0f6710>"
      ]
     },
     "metadata": {},
     "output_type": "display_data"
    }
   ],
   "source": [
    "long_lati_pos = train[(train['longitude'] != 0) & (train['latitude'] != 0)][['longitude', 'latitude', 'status_group']]\n",
    "\n",
    "cdict = {'functional': 'w', 'non functional': 'b', 'functional needs repair': 'm'}\n",
    "long_lati_pos['status_color'] = long_lati_pos['status_group'].apply(lambda x: cdict[x])\n",
    "\n",
    "fig, ax = plt.subplots(nrows=1, ncols=1, figsize=(6, 6))\n",
    "plt.scatter(long_lati_pos['longitude'], long_lati_pos['latitude'], alpha=0.1, c=long_lati_pos['status_color'])"
   ]
  },
  {
   "cell_type": "markdown",
   "metadata": {},
   "source": [
    "## 地区相关\n",
    "\n",
    "num_private"
   ]
  },
  {
   "cell_type": "code",
   "execution_count": 89,
   "metadata": {},
   "outputs": [
    {
     "data": {
      "text/plain": [
       "0.9872558922558923"
      ]
     },
     "execution_count": 89,
     "metadata": {},
     "output_type": "execute_result"
    }
   ],
   "source": [
    "# 缺失率\n",
    "miss_rate(train['num_private'])"
   ]
  },
  {
   "cell_type": "code",
   "execution_count": 84,
   "metadata": {},
   "outputs": [
    {
     "data": {
      "text/plain": [
       "count    59400.000000\n",
       "mean         0.474141\n",
       "std         12.236230\n",
       "min          0.000000\n",
       "25%          0.000000\n",
       "50%          0.000000\n",
       "75%          0.000000\n",
       "max       1776.000000\n",
       "Name: num_private, dtype: float64"
      ]
     },
     "execution_count": 84,
     "metadata": {},
     "output_type": "execute_result"
    }
   ],
   "source": [
    "train['num_private'].describe()"
   ]
  },
  {
   "cell_type": "code",
   "execution_count": 82,
   "metadata": {},
   "outputs": [
    {
     "data": {
      "text/plain": [
       "<matplotlib.axes._subplots.AxesSubplot at 0x16fcd748>"
      ]
     },
     "execution_count": 82,
     "metadata": {},
     "output_type": "execute_result"
    },
    {
     "data": {
      "image/png": "[encoded data removed]",
      "text/plain": [
       "<matplotlib.figure.Figure at 0x103e1f98>"
      ]
     },
     "metadata": {},
     "output_type": "display_data"
    }
   ],
   "source": [
    "fig, ax = plt.subplots(nrows=1, ncols=1, figsize=(6, 6))\n",
    "sns.boxplot(train['status_group'], train['num_private'], ax=ax)\n",
    "sns.stripplot(train['status_group'], train['num_private'], jitter=True, ax=ax)"
   ]
  },
  {
   "cell_type": "code",
   "execution_count": 83,
   "metadata": {},
   "outputs": [
    {
     "data": {
      "text/plain": [
       "<matplotlib.axes._subplots.AxesSubplot at 0x17036e80>"
      ]
     },
     "execution_count": 83,
     "metadata": {},
     "output_type": "execute_result"
    },
    {
     "data": {
      "image/png": "[encoded data removed]",
      "text/plain": [
       "<matplotlib.figure.Figure at 0x174c7da0>"
      ]
     },
     "metadata": {},
     "output_type": "display_data"
    }
   ],
   "source": [
    "# 对数num_private\n",
    "fig, ax = plt.subplots(nrows=1, ncols=1, figsize=(6, 6))\n",
    "sns.boxplot(train['status_group'], np.log1p(train['num_private']), ax=ax)\n",
    "sns.stripplot(train['status_group'], np.log1p(train['num_private']), jitter=True, ax=ax)"
   ]
  },
  {
   "cell_type": "markdown",
   "metadata": {},
   "source": [
    "## 地区相关\n",
    "\n",
    "basin: 流域\n",
    "\n",
    "subvillage: 地区\n",
    "\n",
    "region: 地区\n",
    "\n",
    "region_code: 地区code\n",
    "\n",
    "district_code: 二级区域code\n",
    "\n",
    "lga: 地区\n",
    "\n",
    "ward: 地区"
   ]
  },
  {
   "cell_type": "markdown",
   "metadata": {},
   "source": [
    "### 流域 basin"
   ]
  },
  {
   "cell_type": "code",
   "execution_count": 4,
   "metadata": {},
   "outputs": [
    {
     "data": {
      "text/plain": [
       "0.0"
      ]
     },
     "execution_count": 4,
     "metadata": {},
     "output_type": "execute_result"
    }
   ],
   "source": [
    "miss_rate(train['basin'])"
   ]
  },
  {
   "cell_type": "code",
   "execution_count": 22,
   "metadata": {},
   "outputs": [
    {
     "data": {
      "text/html": [
       "<div>\n",
       "<style>\n",
       "    .dataframe thead tr:only-child th {\n",
       "        text-align: right;\n",
       "    }\n",
       "\n",
       "    .dataframe thead th {\n",
       "        text-align: left;\n",
       "    }\n",
       "\n",
       "    .dataframe tbody tr th {\n",
       "        vertical-align: top;\n",
       "    }\n",
       "</style>\n",
       "<table border=\"1\" class=\"dataframe\">\n",
       "  <thead>\n",
       "    <tr style=\"text-align: right;\">\n",
       "      <th>status_group</th>\n",
       "      <th>functional</th>\n",
       "      <th>functional needs repair</th>\n",
       "      <th>non functional</th>\n",
       "    </tr>\n",
       "    <tr>\n",
       "      <th>basin</th>\n",
       "      <th></th>\n",
       "      <th></th>\n",
       "      <th></th>\n",
       "    </tr>\n",
       "  </thead>\n",
       "  <tbody>\n",
       "    <tr>\n",
       "      <th>Internal</th>\n",
       "      <td>4482</td>\n",
       "      <td>557</td>\n",
       "      <td>2746</td>\n",
       "    </tr>\n",
       "    <tr>\n",
       "      <th>Lake Nyasa</th>\n",
       "      <td>3324</td>\n",
       "      <td>250</td>\n",
       "      <td>1511</td>\n",
       "    </tr>\n",
       "    <tr>\n",
       "      <th>Lake Rukwa</th>\n",
       "      <td>1000</td>\n",
       "      <td>270</td>\n",
       "      <td>1184</td>\n",
       "    </tr>\n",
       "    <tr>\n",
       "      <th>Lake Tanganyika</th>\n",
       "      <td>3107</td>\n",
       "      <td>742</td>\n",
       "      <td>2583</td>\n",
       "    </tr>\n",
       "    <tr>\n",
       "      <th>Lake Victoria</th>\n",
       "      <td>5100</td>\n",
       "      <td>989</td>\n",
       "      <td>4159</td>\n",
       "    </tr>\n",
       "    <tr>\n",
       "      <th>Pangani</th>\n",
       "      <td>5372</td>\n",
       "      <td>477</td>\n",
       "      <td>3091</td>\n",
       "    </tr>\n",
       "    <tr>\n",
       "      <th>Rufiji</th>\n",
       "      <td>5068</td>\n",
       "      <td>437</td>\n",
       "      <td>2471</td>\n",
       "    </tr>\n",
       "    <tr>\n",
       "      <th>Ruvuma / Southern Coast</th>\n",
       "      <td>1670</td>\n",
       "      <td>326</td>\n",
       "      <td>2497</td>\n",
       "    </tr>\n",
       "    <tr>\n",
       "      <th>Wami / Ruvu</th>\n",
       "      <td>3136</td>\n",
       "      <td>269</td>\n",
       "      <td>2582</td>\n",
       "    </tr>\n",
       "  </tbody>\n",
       "</table>\n",
       "</div>"
      ],
      "text/plain": [
       "status_group             functional  functional needs repair  non functional\n",
       "basin                                                                       \n",
       "Internal                       4482                      557            2746\n",
       "Lake Nyasa                     3324                      250            1511\n",
       "Lake Rukwa                     1000                      270            1184\n",
       "Lake Tanganyika                3107                      742            2583\n",
       "Lake Victoria                  5100                      989            4159\n",
       "Pangani                        5372                      477            3091\n",
       "Rufiji                         5068                      437            2471\n",
       "Ruvuma / Southern Coast        1670                      326            2497\n",
       "Wami / Ruvu                    3136                      269            2582"
      ]
     },
     "execution_count": 22,
     "metadata": {},
     "output_type": "execute_result"
    }
   ],
   "source": [
    "pd.crosstab(train['basin'], train['status_group'])"
   ]
  },
  {
   "cell_type": "code",
   "execution_count": 25,
   "metadata": {},
   "outputs": [
    {
     "data": {
      "text/html": [
       "<div>\n",
       "<style>\n",
       "    .dataframe thead tr:only-child th {\n",
       "        text-align: right;\n",
       "    }\n",
       "\n",
       "    .dataframe thead th {\n",
       "        text-align: left;\n",
       "    }\n",
       "\n",
       "    .dataframe tbody tr th {\n",
       "        vertical-align: top;\n",
       "    }\n",
       "</style>\n",
       "<table border=\"1\" class=\"dataframe\">\n",
       "  <thead>\n",
       "    <tr style=\"text-align: right;\">\n",
       "      <th>status_group</th>\n",
       "      <th>functional</th>\n",
       "      <th>functional needs repair</th>\n",
       "      <th>non functional</th>\n",
       "    </tr>\n",
       "    <tr>\n",
       "      <th>basin</th>\n",
       "      <th></th>\n",
       "      <th></th>\n",
       "      <th></th>\n",
       "    </tr>\n",
       "  </thead>\n",
       "  <tbody>\n",
       "    <tr>\n",
       "      <th>Internal</th>\n",
       "      <td>0.575723</td>\n",
       "      <td>0.071548</td>\n",
       "      <td>0.352730</td>\n",
       "    </tr>\n",
       "    <tr>\n",
       "      <th>Lake Nyasa</th>\n",
       "      <td>0.653687</td>\n",
       "      <td>0.049164</td>\n",
       "      <td>0.297148</td>\n",
       "    </tr>\n",
       "    <tr>\n",
       "      <th>Lake Rukwa</th>\n",
       "      <td>0.407498</td>\n",
       "      <td>0.110024</td>\n",
       "      <td>0.482478</td>\n",
       "    </tr>\n",
       "    <tr>\n",
       "      <th>Lake Tanganyika</th>\n",
       "      <td>0.483053</td>\n",
       "      <td>0.115361</td>\n",
       "      <td>0.401586</td>\n",
       "    </tr>\n",
       "    <tr>\n",
       "      <th>Lake Victoria</th>\n",
       "      <td>0.497658</td>\n",
       "      <td>0.096507</td>\n",
       "      <td>0.405835</td>\n",
       "    </tr>\n",
       "    <tr>\n",
       "      <th>Pangani</th>\n",
       "      <td>0.600895</td>\n",
       "      <td>0.053356</td>\n",
       "      <td>0.345749</td>\n",
       "    </tr>\n",
       "    <tr>\n",
       "      <th>Rufiji</th>\n",
       "      <td>0.635406</td>\n",
       "      <td>0.054789</td>\n",
       "      <td>0.309804</td>\n",
       "    </tr>\n",
       "    <tr>\n",
       "      <th>Ruvuma / Southern Coast</th>\n",
       "      <td>0.371689</td>\n",
       "      <td>0.072557</td>\n",
       "      <td>0.555753</td>\n",
       "    </tr>\n",
       "    <tr>\n",
       "      <th>Wami / Ruvu</th>\n",
       "      <td>0.523802</td>\n",
       "      <td>0.044931</td>\n",
       "      <td>0.431268</td>\n",
       "    </tr>\n",
       "  </tbody>\n",
       "</table>\n",
       "</div>"
      ],
      "text/plain": [
       "status_group             functional  functional needs repair  non functional\n",
       "basin                                                                       \n",
       "Internal                   0.575723                 0.071548        0.352730\n",
       "Lake Nyasa                 0.653687                 0.049164        0.297148\n",
       "Lake Rukwa                 0.407498                 0.110024        0.482478\n",
       "Lake Tanganyika            0.483053                 0.115361        0.401586\n",
       "Lake Victoria              0.497658                 0.096507        0.405835\n",
       "Pangani                    0.600895                 0.053356        0.345749\n",
       "Rufiji                     0.635406                 0.054789        0.309804\n",
       "Ruvuma / Southern Coast    0.371689                 0.072557        0.555753\n",
       "Wami / Ruvu                0.523802                 0.044931        0.431268"
      ]
     },
     "execution_count": 25,
     "metadata": {},
     "output_type": "execute_result"
    }
   ],
   "source": [
    "pd.crosstab(train['basin'], train['status_group']).apply(lambda x: x / x.sum(), axis=1)\n",
    "\n",
    "# 流域之间的差别还是很大的"
   ]
  },
  {
   "cell_type": "markdown",
   "metadata": {},
   "source": [
    "### subvillage: 地区"
   ]
  },
  {
   "cell_type": "code",
   "execution_count": 27,
   "metadata": {},
   "outputs": [
    {
     "data": {
      "text/plain": [
       "0.0"
      ]
     },
     "execution_count": 27,
     "metadata": {},
     "output_type": "execute_result"
    }
   ],
   "source": [
    "miss_rate(train['subvillage'])"
   ]
  },
  {
   "cell_type": "code",
   "execution_count": 30,
   "metadata": {},
   "outputs": [
    {
     "data": {
      "text/html": [
       "<div>\n",
       "<style>\n",
       "    .dataframe thead tr:only-child th {\n",
       "        text-align: right;\n",
       "    }\n",
       "\n",
       "    .dataframe thead th {\n",
       "        text-align: left;\n",
       "    }\n",
       "\n",
       "    .dataframe tbody tr th {\n",
       "        vertical-align: top;\n",
       "    }\n",
       "</style>\n",
       "<table border=\"1\" class=\"dataframe\">\n",
       "  <thead>\n",
       "    <tr style=\"text-align: right;\">\n",
       "      <th>status_group</th>\n",
       "      <th>functional</th>\n",
       "      <th>functional needs repair</th>\n",
       "      <th>non functional</th>\n",
       "      <th>All</th>\n",
       "    </tr>\n",
       "    <tr>\n",
       "      <th>subvillage</th>\n",
       "      <th></th>\n",
       "      <th></th>\n",
       "      <th></th>\n",
       "      <th></th>\n",
       "    </tr>\n",
       "  </thead>\n",
       "  <tbody>\n",
       "    <tr>\n",
       "      <th>##</th>\n",
       "      <td>1</td>\n",
       "      <td>0</td>\n",
       "      <td>0</td>\n",
       "      <td>1</td>\n",
       "    </tr>\n",
       "    <tr>\n",
       "      <th>'A' Kati</th>\n",
       "      <td>0</td>\n",
       "      <td>0</td>\n",
       "      <td>1</td>\n",
       "      <td>1</td>\n",
       "    </tr>\n",
       "    <tr>\n",
       "      <th>1</th>\n",
       "      <td>52</td>\n",
       "      <td>8</td>\n",
       "      <td>72</td>\n",
       "      <td>132</td>\n",
       "    </tr>\n",
       "    <tr>\n",
       "      <th>14Kambalage</th>\n",
       "      <td>5</td>\n",
       "      <td>0</td>\n",
       "      <td>0</td>\n",
       "      <td>5</td>\n",
       "    </tr>\n",
       "    <tr>\n",
       "      <th>18</th>\n",
       "      <td>0</td>\n",
       "      <td>0</td>\n",
       "      <td>1</td>\n",
       "      <td>1</td>\n",
       "    </tr>\n",
       "    <tr>\n",
       "      <th>19</th>\n",
       "      <td>1</td>\n",
       "      <td>0</td>\n",
       "      <td>2</td>\n",
       "      <td>3</td>\n",
       "    </tr>\n",
       "    <tr>\n",
       "      <th>20</th>\n",
       "      <td>0</td>\n",
       "      <td>0</td>\n",
       "      <td>1</td>\n",
       "      <td>1</td>\n",
       "    </tr>\n",
       "    <tr>\n",
       "      <th>22B</th>\n",
       "      <td>0</td>\n",
       "      <td>0</td>\n",
       "      <td>1</td>\n",
       "      <td>1</td>\n",
       "    </tr>\n",
       "    <tr>\n",
       "      <th>23B</th>\n",
       "      <td>0</td>\n",
       "      <td>0</td>\n",
       "      <td>1</td>\n",
       "      <td>1</td>\n",
       "    </tr>\n",
       "    <tr>\n",
       "      <th>24</th>\n",
       "      <td>0</td>\n",
       "      <td>0</td>\n",
       "      <td>1</td>\n",
       "      <td>1</td>\n",
       "    </tr>\n",
       "    <tr>\n",
       "      <th>24B</th>\n",
       "      <td>0</td>\n",
       "      <td>0</td>\n",
       "      <td>1</td>\n",
       "      <td>1</td>\n",
       "    </tr>\n",
       "    <tr>\n",
       "      <th>30</th>\n",
       "      <td>0</td>\n",
       "      <td>0</td>\n",
       "      <td>1</td>\n",
       "      <td>1</td>\n",
       "    </tr>\n",
       "    <tr>\n",
       "      <th>42</th>\n",
       "      <td>0</td>\n",
       "      <td>0</td>\n",
       "      <td>1</td>\n",
       "      <td>1</td>\n",
       "    </tr>\n",
       "    <tr>\n",
       "      <th>43</th>\n",
       "      <td>1</td>\n",
       "      <td>0</td>\n",
       "      <td>0</td>\n",
       "      <td>1</td>\n",
       "    </tr>\n",
       "    <tr>\n",
       "      <th>44</th>\n",
       "      <td>0</td>\n",
       "      <td>0</td>\n",
       "      <td>3</td>\n",
       "      <td>3</td>\n",
       "    </tr>\n",
       "    <tr>\n",
       "      <th>45</th>\n",
       "      <td>0</td>\n",
       "      <td>0</td>\n",
       "      <td>1</td>\n",
       "      <td>1</td>\n",
       "    </tr>\n",
       "    <tr>\n",
       "      <th>47</th>\n",
       "      <td>0</td>\n",
       "      <td>0</td>\n",
       "      <td>1</td>\n",
       "      <td>1</td>\n",
       "    </tr>\n",
       "    <tr>\n",
       "      <th>48</th>\n",
       "      <td>0</td>\n",
       "      <td>0</td>\n",
       "      <td>1</td>\n",
       "      <td>1</td>\n",
       "    </tr>\n",
       "    <tr>\n",
       "      <th>49</th>\n",
       "      <td>1</td>\n",
       "      <td>0</td>\n",
       "      <td>0</td>\n",
       "      <td>1</td>\n",
       "    </tr>\n",
       "    <tr>\n",
       "      <th>52 A</th>\n",
       "      <td>0</td>\n",
       "      <td>0</td>\n",
       "      <td>1</td>\n",
       "      <td>1</td>\n",
       "    </tr>\n",
       "    <tr>\n",
       "      <th>53 A</th>\n",
       "      <td>0</td>\n",
       "      <td>0</td>\n",
       "      <td>2</td>\n",
       "      <td>2</td>\n",
       "    </tr>\n",
       "    <tr>\n",
       "      <th>53 B</th>\n",
       "      <td>0</td>\n",
       "      <td>0</td>\n",
       "      <td>1</td>\n",
       "      <td>1</td>\n",
       "    </tr>\n",
       "    <tr>\n",
       "      <th>54</th>\n",
       "      <td>0</td>\n",
       "      <td>0</td>\n",
       "      <td>2</td>\n",
       "      <td>2</td>\n",
       "    </tr>\n",
       "    <tr>\n",
       "      <th>58 B</th>\n",
       "      <td>0</td>\n",
       "      <td>0</td>\n",
       "      <td>3</td>\n",
       "      <td>3</td>\n",
       "    </tr>\n",
       "    <tr>\n",
       "      <th>60</th>\n",
       "      <td>0</td>\n",
       "      <td>0</td>\n",
       "      <td>1</td>\n",
       "      <td>1</td>\n",
       "    </tr>\n",
       "    <tr>\n",
       "      <th>61 A</th>\n",
       "      <td>0</td>\n",
       "      <td>0</td>\n",
       "      <td>1</td>\n",
       "      <td>1</td>\n",
       "    </tr>\n",
       "    <tr>\n",
       "      <th>61 B</th>\n",
       "      <td>0</td>\n",
       "      <td>0</td>\n",
       "      <td>2</td>\n",
       "      <td>2</td>\n",
       "    </tr>\n",
       "    <tr>\n",
       "      <th>61B</th>\n",
       "      <td>0</td>\n",
       "      <td>0</td>\n",
       "      <td>1</td>\n",
       "      <td>1</td>\n",
       "    </tr>\n",
       "    <tr>\n",
       "      <th>62</th>\n",
       "      <td>0</td>\n",
       "      <td>0</td>\n",
       "      <td>1</td>\n",
       "      <td>1</td>\n",
       "    </tr>\n",
       "    <tr>\n",
       "      <th>63</th>\n",
       "      <td>0</td>\n",
       "      <td>0</td>\n",
       "      <td>1</td>\n",
       "      <td>1</td>\n",
       "    </tr>\n",
       "    <tr>\n",
       "      <th>...</th>\n",
       "      <td>...</td>\n",
       "      <td>...</td>\n",
       "      <td>...</td>\n",
       "      <td>...</td>\n",
       "    </tr>\n",
       "    <tr>\n",
       "      <th>Zirai</th>\n",
       "      <td>1</td>\n",
       "      <td>0</td>\n",
       "      <td>0</td>\n",
       "      <td>1</td>\n",
       "    </tr>\n",
       "    <tr>\n",
       "      <th>Ziwajanze</th>\n",
       "      <td>2</td>\n",
       "      <td>0</td>\n",
       "      <td>1</td>\n",
       "      <td>3</td>\n",
       "    </tr>\n",
       "    <tr>\n",
       "      <th>Ziwani</th>\n",
       "      <td>4</td>\n",
       "      <td>0</td>\n",
       "      <td>8</td>\n",
       "      <td>12</td>\n",
       "    </tr>\n",
       "    <tr>\n",
       "      <th>Ziwani 1</th>\n",
       "      <td>0</td>\n",
       "      <td>0</td>\n",
       "      <td>1</td>\n",
       "      <td>1</td>\n",
       "    </tr>\n",
       "    <tr>\n",
       "      <th>Ziwani A</th>\n",
       "      <td>0</td>\n",
       "      <td>0</td>\n",
       "      <td>2</td>\n",
       "      <td>2</td>\n",
       "    </tr>\n",
       "    <tr>\n",
       "      <th>Ziwani B</th>\n",
       "      <td>0</td>\n",
       "      <td>0</td>\n",
       "      <td>1</td>\n",
       "      <td>1</td>\n",
       "    </tr>\n",
       "    <tr>\n",
       "      <th>Zizima</th>\n",
       "      <td>1</td>\n",
       "      <td>0</td>\n",
       "      <td>0</td>\n",
       "      <td>1</td>\n",
       "    </tr>\n",
       "    <tr>\n",
       "      <th>Zizimi</th>\n",
       "      <td>1</td>\n",
       "      <td>0</td>\n",
       "      <td>0</td>\n",
       "      <td>1</td>\n",
       "    </tr>\n",
       "    <tr>\n",
       "      <th>Zizini</th>\n",
       "      <td>4</td>\n",
       "      <td>0</td>\n",
       "      <td>0</td>\n",
       "      <td>4</td>\n",
       "    </tr>\n",
       "    <tr>\n",
       "      <th>Zobogo</th>\n",
       "      <td>5</td>\n",
       "      <td>0</td>\n",
       "      <td>0</td>\n",
       "      <td>5</td>\n",
       "    </tr>\n",
       "    <tr>\n",
       "      <th>Zoholo</th>\n",
       "      <td>0</td>\n",
       "      <td>0</td>\n",
       "      <td>1</td>\n",
       "      <td>1</td>\n",
       "    </tr>\n",
       "    <tr>\n",
       "      <th>Zomadi</th>\n",
       "      <td>0</td>\n",
       "      <td>0</td>\n",
       "      <td>1</td>\n",
       "      <td>1</td>\n",
       "    </tr>\n",
       "    <tr>\n",
       "      <th>Zomba</th>\n",
       "      <td>1</td>\n",
       "      <td>0</td>\n",
       "      <td>0</td>\n",
       "      <td>1</td>\n",
       "    </tr>\n",
       "    <tr>\n",
       "      <th>Zomba 'A'</th>\n",
       "      <td>1</td>\n",
       "      <td>0</td>\n",
       "      <td>0</td>\n",
       "      <td>1</td>\n",
       "    </tr>\n",
       "    <tr>\n",
       "      <th>Zomba 'B'</th>\n",
       "      <td>0</td>\n",
       "      <td>1</td>\n",
       "      <td>2</td>\n",
       "      <td>3</td>\n",
       "    </tr>\n",
       "    <tr>\n",
       "      <th>Zomba A</th>\n",
       "      <td>1</td>\n",
       "      <td>0</td>\n",
       "      <td>1</td>\n",
       "      <td>2</td>\n",
       "    </tr>\n",
       "    <tr>\n",
       "      <th>Zomba Kati</th>\n",
       "      <td>1</td>\n",
       "      <td>0</td>\n",
       "      <td>0</td>\n",
       "      <td>1</td>\n",
       "    </tr>\n",
       "    <tr>\n",
       "      <th>Zombengalawa</th>\n",
       "      <td>4</td>\n",
       "      <td>0</td>\n",
       "      <td>1</td>\n",
       "      <td>5</td>\n",
       "    </tr>\n",
       "    <tr>\n",
       "      <th>Zongomela</th>\n",
       "      <td>0</td>\n",
       "      <td>0</td>\n",
       "      <td>4</td>\n",
       "      <td>4</td>\n",
       "    </tr>\n",
       "    <tr>\n",
       "      <th>Zongongomela</th>\n",
       "      <td>1</td>\n",
       "      <td>0</td>\n",
       "      <td>0</td>\n",
       "      <td>1</td>\n",
       "    </tr>\n",
       "    <tr>\n",
       "      <th>Zonwe</th>\n",
       "      <td>0</td>\n",
       "      <td>0</td>\n",
       "      <td>1</td>\n",
       "      <td>1</td>\n",
       "    </tr>\n",
       "    <tr>\n",
       "      <th>Zugimlole</th>\n",
       "      <td>0</td>\n",
       "      <td>0</td>\n",
       "      <td>1</td>\n",
       "      <td>1</td>\n",
       "    </tr>\n",
       "    <tr>\n",
       "      <th>Zuiani</th>\n",
       "      <td>2</td>\n",
       "      <td>0</td>\n",
       "      <td>2</td>\n",
       "      <td>4</td>\n",
       "    </tr>\n",
       "    <tr>\n",
       "      <th>Zumbawanu</th>\n",
       "      <td>2</td>\n",
       "      <td>0</td>\n",
       "      <td>0</td>\n",
       "      <td>2</td>\n",
       "    </tr>\n",
       "    <tr>\n",
       "      <th>Zumbawanu Shuleni</th>\n",
       "      <td>1</td>\n",
       "      <td>0</td>\n",
       "      <td>0</td>\n",
       "      <td>1</td>\n",
       "    </tr>\n",
       "    <tr>\n",
       "      <th>Zunga</th>\n",
       "      <td>1</td>\n",
       "      <td>0</td>\n",
       "      <td>0</td>\n",
       "      <td>1</td>\n",
       "    </tr>\n",
       "    <tr>\n",
       "      <th>Zunguni</th>\n",
       "      <td>0</td>\n",
       "      <td>0</td>\n",
       "      <td>1</td>\n",
       "      <td>1</td>\n",
       "    </tr>\n",
       "    <tr>\n",
       "      <th>Zunzuli</th>\n",
       "      <td>1</td>\n",
       "      <td>0</td>\n",
       "      <td>3</td>\n",
       "      <td>4</td>\n",
       "    </tr>\n",
       "    <tr>\n",
       "      <th>Zuri</th>\n",
       "      <td>0</td>\n",
       "      <td>0</td>\n",
       "      <td>1</td>\n",
       "      <td>1</td>\n",
       "    </tr>\n",
       "    <tr>\n",
       "      <th>All</th>\n",
       "      <td>32054</td>\n",
       "      <td>4316</td>\n",
       "      <td>22659</td>\n",
       "      <td>59029</td>\n",
       "    </tr>\n",
       "  </tbody>\n",
       "</table>\n",
       "<p>19288 rows × 4 columns</p>\n",
       "</div>"
      ],
      "text/plain": [
       "status_group       functional  functional needs repair  non functional    All\n",
       "subvillage                                                                   \n",
       "##                          1                        0               0      1\n",
       "'A' Kati                    0                        0               1      1\n",
       "1                          52                        8              72    132\n",
       "14Kambalage                 5                        0               0      5\n",
       "18                          0                        0               1      1\n",
       "19                          1                        0               2      3\n",
       "20                          0                        0               1      1\n",
       "22B                         0                        0               1      1\n",
       "23B                         0                        0               1      1\n",
       "24                          0                        0               1      1\n",
       "24B                         0                        0               1      1\n",
       "30                          0                        0               1      1\n",
       "42                          0                        0               1      1\n",
       "43                          1                        0               0      1\n",
       "44                          0                        0               3      3\n",
       "45                          0                        0               1      1\n",
       "47                          0                        0               1      1\n",
       "48                          0                        0               1      1\n",
       "49                          1                        0               0      1\n",
       "52 A                        0                        0               1      1\n",
       "53 A                        0                        0               2      2\n",
       "53 B                        0                        0               1      1\n",
       "54                          0                        0               2      2\n",
       "58 B                        0                        0               3      3\n",
       "60                          0                        0               1      1\n",
       "61 A                        0                        0               1      1\n",
       "61 B                        0                        0               2      2\n",
       "61B                         0                        0               1      1\n",
       "62                          0                        0               1      1\n",
       "63                          0                        0               1      1\n",
       "...                       ...                      ...             ...    ...\n",
       "Zirai                       1                        0               0      1\n",
       "Ziwajanze                   2                        0               1      3\n",
       "Ziwani                      4                        0               8     12\n",
       "Ziwani 1                    0                        0               1      1\n",
       "Ziwani A                    0                        0               2      2\n",
       "Ziwani B                    0                        0               1      1\n",
       "Zizima                      1                        0               0      1\n",
       "Zizimi                      1                        0               0      1\n",
       "Zizini                      4                        0               0      4\n",
       "Zobogo                      5                        0               0      5\n",
       "Zoholo                      0                        0               1      1\n",
       "Zomadi                      0                        0               1      1\n",
       "Zomba                       1                        0               0      1\n",
       "Zomba 'A'                   1                        0               0      1\n",
       "Zomba 'B'                   0                        1               2      3\n",
       "Zomba A                     1                        0               1      2\n",
       "Zomba Kati                  1                        0               0      1\n",
       "Zombengalawa                4                        0               1      5\n",
       "Zongomela                   0                        0               4      4\n",
       "Zongongomela                1                        0               0      1\n",
       "Zonwe                       0                        0               1      1\n",
       "Zugimlole                   0                        0               1      1\n",
       "Zuiani                      2                        0               2      4\n",
       "Zumbawanu                   2                        0               0      2\n",
       "Zumbawanu Shuleni           1                        0               0      1\n",
       "Zunga                       1                        0               0      1\n",
       "Zunguni                     0                        0               1      1\n",
       "Zunzuli                     1                        0               3      4\n",
       "Zuri                        0                        0               1      1\n",
       "All                     32054                     4316           22659  59029\n",
       "\n",
       "[19288 rows x 4 columns]"
      ]
     },
     "execution_count": 30,
     "metadata": {},
     "output_type": "execute_result"
    }
   ],
   "source": [
    "pd.crosstab(train['subvillage'], train['status_group'], margins=True)"
   ]
  },
  {
   "cell_type": "markdown",
   "metadata": {},
   "source": [
    "### region: 地区\n",
    "### region_code: 地区code\n",
    "### district_code: 二级区域code"
   ]
  },
  {
   "cell_type": "code",
   "execution_count": 34,
   "metadata": {},
   "outputs": [
    {
     "name": "stdout",
     "output_type": "stream",
     "text": [
      "miss rate of region 0.0\n",
      "miss rate of region_code 0.0\n",
      "miss rate of district_code 0.00038720538720538045\n"
     ]
    }
   ],
   "source": [
    "print(\"miss rate of region\", miss_rate(train['region']))\n",
    "print(\"miss rate of region_code\", miss_rate(train['region_code']))\n",
    "print(\"miss rate of district_code\", miss_rate(train['district_code']))"
   ]
  },
  {
   "cell_type": "code",
   "execution_count": 38,
   "metadata": {
    "scrolled": true
   },
   "outputs": [
    {
     "data": {
      "text/html": [
       "<div>\n",
       "<style>\n",
       "    .dataframe thead tr:only-child th {\n",
       "        text-align: right;\n",
       "    }\n",
       "\n",
       "    .dataframe thead th {\n",
       "        text-align: left;\n",
       "    }\n",
       "\n",
       "    .dataframe tbody tr th {\n",
       "        vertical-align: top;\n",
       "    }\n",
       "</style>\n",
       "<table border=\"1\" class=\"dataframe\">\n",
       "  <thead>\n",
       "    <tr style=\"text-align: right;\">\n",
       "      <th>status_group</th>\n",
       "      <th>functional</th>\n",
       "      <th>functional needs repair</th>\n",
       "      <th>non functional</th>\n",
       "      <th>All</th>\n",
       "    </tr>\n",
       "    <tr>\n",
       "      <th>region_code</th>\n",
       "      <th></th>\n",
       "      <th></th>\n",
       "      <th></th>\n",
       "      <th></th>\n",
       "    </tr>\n",
       "  </thead>\n",
       "  <tbody>\n",
       "    <tr>\n",
       "      <th>1</th>\n",
       "      <td>1009</td>\n",
       "      <td>209</td>\n",
       "      <td>983</td>\n",
       "      <td>2201</td>\n",
       "    </tr>\n",
       "    <tr>\n",
       "      <th>2</th>\n",
       "      <td>1978</td>\n",
       "      <td>174</td>\n",
       "      <td>872</td>\n",
       "      <td>3024</td>\n",
       "    </tr>\n",
       "    <tr>\n",
       "      <th>3</th>\n",
       "      <td>2640</td>\n",
       "      <td>322</td>\n",
       "      <td>1417</td>\n",
       "      <td>4379</td>\n",
       "    </tr>\n",
       "    <tr>\n",
       "      <th>4</th>\n",
       "      <td>1408</td>\n",
       "      <td>73</td>\n",
       "      <td>1032</td>\n",
       "      <td>2513</td>\n",
       "    </tr>\n",
       "    <tr>\n",
       "      <th>5</th>\n",
       "      <td>2147</td>\n",
       "      <td>300</td>\n",
       "      <td>1593</td>\n",
       "      <td>4040</td>\n",
       "    </tr>\n",
       "    <tr>\n",
       "      <th>6</th>\n",
       "      <td>1066</td>\n",
       "      <td>16</td>\n",
       "      <td>527</td>\n",
       "      <td>1609</td>\n",
       "    </tr>\n",
       "    <tr>\n",
       "      <th>7</th>\n",
       "      <td>461</td>\n",
       "      <td>3</td>\n",
       "      <td>341</td>\n",
       "      <td>805</td>\n",
       "    </tr>\n",
       "    <tr>\n",
       "      <th>8</th>\n",
       "      <td>26</td>\n",
       "      <td>15</td>\n",
       "      <td>259</td>\n",
       "      <td>300</td>\n",
       "    </tr>\n",
       "    <tr>\n",
       "      <th>9</th>\n",
       "      <td>139</td>\n",
       "      <td>21</td>\n",
       "      <td>230</td>\n",
       "      <td>390</td>\n",
       "    </tr>\n",
       "    <tr>\n",
       "      <th>10</th>\n",
       "      <td>1480</td>\n",
       "      <td>164</td>\n",
       "      <td>996</td>\n",
       "      <td>2640</td>\n",
       "    </tr>\n",
       "    <tr>\n",
       "      <th>11</th>\n",
       "      <td>4143</td>\n",
       "      <td>123</td>\n",
       "      <td>1034</td>\n",
       "      <td>5300</td>\n",
       "    </tr>\n",
       "    <tr>\n",
       "      <th>12</th>\n",
       "      <td>2319</td>\n",
       "      <td>504</td>\n",
       "      <td>1816</td>\n",
       "      <td>4639</td>\n",
       "    </tr>\n",
       "    <tr>\n",
       "      <th>13</th>\n",
       "      <td>1011</td>\n",
       "      <td>128</td>\n",
       "      <td>954</td>\n",
       "      <td>2093</td>\n",
       "    </tr>\n",
       "    <tr>\n",
       "      <th>14</th>\n",
       "      <td>862</td>\n",
       "      <td>47</td>\n",
       "      <td>1070</td>\n",
       "      <td>1979</td>\n",
       "    </tr>\n",
       "    <tr>\n",
       "      <th>15</th>\n",
       "      <td>707</td>\n",
       "      <td>135</td>\n",
       "      <td>966</td>\n",
       "      <td>1808</td>\n",
       "    </tr>\n",
       "    <tr>\n",
       "      <th>16</th>\n",
       "      <td>1363</td>\n",
       "      <td>603</td>\n",
       "      <td>850</td>\n",
       "      <td>2816</td>\n",
       "    </tr>\n",
       "    <tr>\n",
       "      <th>17</th>\n",
       "      <td>2807</td>\n",
       "      <td>638</td>\n",
       "      <td>1566</td>\n",
       "      <td>5011</td>\n",
       "    </tr>\n",
       "    <tr>\n",
       "      <th>18</th>\n",
       "      <td>1729</td>\n",
       "      <td>304</td>\n",
       "      <td>1291</td>\n",
       "      <td>3324</td>\n",
       "    </tr>\n",
       "    <tr>\n",
       "      <th>19</th>\n",
       "      <td>1468</td>\n",
       "      <td>178</td>\n",
       "      <td>1401</td>\n",
       "      <td>3047</td>\n",
       "    </tr>\n",
       "    <tr>\n",
       "      <th>20</th>\n",
       "      <td>886</td>\n",
       "      <td>60</td>\n",
       "      <td>1023</td>\n",
       "      <td>1969</td>\n",
       "    </tr>\n",
       "    <tr>\n",
       "      <th>21</th>\n",
       "      <td>987</td>\n",
       "      <td>96</td>\n",
       "      <td>500</td>\n",
       "      <td>1583</td>\n",
       "    </tr>\n",
       "    <tr>\n",
       "      <th>24</th>\n",
       "      <td>316</td>\n",
       "      <td>1</td>\n",
       "      <td>9</td>\n",
       "      <td>326</td>\n",
       "    </tr>\n",
       "    <tr>\n",
       "      <th>40</th>\n",
       "      <td>0</td>\n",
       "      <td>0</td>\n",
       "      <td>1</td>\n",
       "      <td>1</td>\n",
       "    </tr>\n",
       "    <tr>\n",
       "      <th>60</th>\n",
       "      <td>490</td>\n",
       "      <td>20</td>\n",
       "      <td>515</td>\n",
       "      <td>1025</td>\n",
       "    </tr>\n",
       "    <tr>\n",
       "      <th>80</th>\n",
       "      <td>432</td>\n",
       "      <td>78</td>\n",
       "      <td>728</td>\n",
       "      <td>1238</td>\n",
       "    </tr>\n",
       "    <tr>\n",
       "      <th>90</th>\n",
       "      <td>194</td>\n",
       "      <td>98</td>\n",
       "      <td>625</td>\n",
       "      <td>917</td>\n",
       "    </tr>\n",
       "    <tr>\n",
       "      <th>99</th>\n",
       "      <td>191</td>\n",
       "      <td>7</td>\n",
       "      <td>225</td>\n",
       "      <td>423</td>\n",
       "    </tr>\n",
       "    <tr>\n",
       "      <th>All</th>\n",
       "      <td>32259</td>\n",
       "      <td>4317</td>\n",
       "      <td>22824</td>\n",
       "      <td>59400</td>\n",
       "    </tr>\n",
       "  </tbody>\n",
       "</table>\n",
       "</div>"
      ],
      "text/plain": [
       "status_group  functional  functional needs repair  non functional    All\n",
       "region_code                                                             \n",
       "1                   1009                      209             983   2201\n",
       "2                   1978                      174             872   3024\n",
       "3                   2640                      322            1417   4379\n",
       "4                   1408                       73            1032   2513\n",
       "5                   2147                      300            1593   4040\n",
       "6                   1066                       16             527   1609\n",
       "7                    461                        3             341    805\n",
       "8                     26                       15             259    300\n",
       "9                    139                       21             230    390\n",
       "10                  1480                      164             996   2640\n",
       "11                  4143                      123            1034   5300\n",
       "12                  2319                      504            1816   4639\n",
       "13                  1011                      128             954   2093\n",
       "14                   862                       47            1070   1979\n",
       "15                   707                      135             966   1808\n",
       "16                  1363                      603             850   2816\n",
       "17                  2807                      638            1566   5011\n",
       "18                  1729                      304            1291   3324\n",
       "19                  1468                      178            1401   3047\n",
       "20                   886                       60            1023   1969\n",
       "21                   987                       96             500   1583\n",
       "24                   316                        1               9    326\n",
       "40                     0                        0               1      1\n",
       "60                   490                       20             515   1025\n",
       "80                   432                       78             728   1238\n",
       "90                   194                       98             625    917\n",
       "99                   191                        7             225    423\n",
       "All                32259                     4317           22824  59400"
      ]
     },
     "execution_count": 38,
     "metadata": {},
     "output_type": "execute_result"
    }
   ],
   "source": [
    "pd.crosstab(train['region_code'], train['status_group'], margins=True)"
   ]
  },
  {
   "cell_type": "code",
   "execution_count": 45,
   "metadata": {
    "scrolled": true
   },
   "outputs": [
    {
     "data": {
      "text/html": [
       "<div>\n",
       "<style>\n",
       "    .dataframe thead tr:only-child th {\n",
       "        text-align: right;\n",
       "    }\n",
       "\n",
       "    .dataframe thead th {\n",
       "        text-align: left;\n",
       "    }\n",
       "\n",
       "    .dataframe tbody tr th {\n",
       "        vertical-align: top;\n",
       "    }\n",
       "</style>\n",
       "<table border=\"1\" class=\"dataframe\">\n",
       "  <thead>\n",
       "    <tr style=\"text-align: right;\">\n",
       "      <th>status_group</th>\n",
       "      <th>functional</th>\n",
       "      <th>functional needs repair</th>\n",
       "      <th>non functional</th>\n",
       "    </tr>\n",
       "    <tr>\n",
       "      <th>region_code</th>\n",
       "      <th></th>\n",
       "      <th></th>\n",
       "      <th></th>\n",
       "    </tr>\n",
       "  </thead>\n",
       "  <tbody>\n",
       "    <tr>\n",
       "      <th>1</th>\n",
       "      <td>0.458428</td>\n",
       "      <td>0.094957</td>\n",
       "      <td>0.446615</td>\n",
       "    </tr>\n",
       "    <tr>\n",
       "      <th>2</th>\n",
       "      <td>0.654101</td>\n",
       "      <td>0.057540</td>\n",
       "      <td>0.288360</td>\n",
       "    </tr>\n",
       "    <tr>\n",
       "      <th>3</th>\n",
       "      <td>0.602877</td>\n",
       "      <td>0.073533</td>\n",
       "      <td>0.323590</td>\n",
       "    </tr>\n",
       "    <tr>\n",
       "      <th>4</th>\n",
       "      <td>0.560287</td>\n",
       "      <td>0.029049</td>\n",
       "      <td>0.410665</td>\n",
       "    </tr>\n",
       "    <tr>\n",
       "      <th>5</th>\n",
       "      <td>0.531436</td>\n",
       "      <td>0.074257</td>\n",
       "      <td>0.394307</td>\n",
       "    </tr>\n",
       "    <tr>\n",
       "      <th>6</th>\n",
       "      <td>0.662523</td>\n",
       "      <td>0.009944</td>\n",
       "      <td>0.327533</td>\n",
       "    </tr>\n",
       "    <tr>\n",
       "      <th>7</th>\n",
       "      <td>0.572671</td>\n",
       "      <td>0.003727</td>\n",
       "      <td>0.423602</td>\n",
       "    </tr>\n",
       "    <tr>\n",
       "      <th>8</th>\n",
       "      <td>0.086667</td>\n",
       "      <td>0.050000</td>\n",
       "      <td>0.863333</td>\n",
       "    </tr>\n",
       "    <tr>\n",
       "      <th>9</th>\n",
       "      <td>0.356410</td>\n",
       "      <td>0.053846</td>\n",
       "      <td>0.589744</td>\n",
       "    </tr>\n",
       "    <tr>\n",
       "      <th>10</th>\n",
       "      <td>0.560606</td>\n",
       "      <td>0.062121</td>\n",
       "      <td>0.377273</td>\n",
       "    </tr>\n",
       "    <tr>\n",
       "      <th>11</th>\n",
       "      <td>0.781698</td>\n",
       "      <td>0.023208</td>\n",
       "      <td>0.195094</td>\n",
       "    </tr>\n",
       "    <tr>\n",
       "      <th>12</th>\n",
       "      <td>0.499892</td>\n",
       "      <td>0.108644</td>\n",
       "      <td>0.391464</td>\n",
       "    </tr>\n",
       "    <tr>\n",
       "      <th>13</th>\n",
       "      <td>0.483039</td>\n",
       "      <td>0.061156</td>\n",
       "      <td>0.455805</td>\n",
       "    </tr>\n",
       "    <tr>\n",
       "      <th>14</th>\n",
       "      <td>0.435574</td>\n",
       "      <td>0.023749</td>\n",
       "      <td>0.540677</td>\n",
       "    </tr>\n",
       "    <tr>\n",
       "      <th>15</th>\n",
       "      <td>0.391040</td>\n",
       "      <td>0.074668</td>\n",
       "      <td>0.534292</td>\n",
       "    </tr>\n",
       "    <tr>\n",
       "      <th>16</th>\n",
       "      <td>0.484020</td>\n",
       "      <td>0.214134</td>\n",
       "      <td>0.301847</td>\n",
       "    </tr>\n",
       "    <tr>\n",
       "      <th>17</th>\n",
       "      <td>0.560168</td>\n",
       "      <td>0.127320</td>\n",
       "      <td>0.312512</td>\n",
       "    </tr>\n",
       "    <tr>\n",
       "      <th>18</th>\n",
       "      <td>0.520156</td>\n",
       "      <td>0.091456</td>\n",
       "      <td>0.388387</td>\n",
       "    </tr>\n",
       "    <tr>\n",
       "      <th>19</th>\n",
       "      <td>0.481785</td>\n",
       "      <td>0.058418</td>\n",
       "      <td>0.459797</td>\n",
       "    </tr>\n",
       "    <tr>\n",
       "      <th>20</th>\n",
       "      <td>0.449975</td>\n",
       "      <td>0.030472</td>\n",
       "      <td>0.519553</td>\n",
       "    </tr>\n",
       "    <tr>\n",
       "      <th>21</th>\n",
       "      <td>0.623500</td>\n",
       "      <td>0.060644</td>\n",
       "      <td>0.315856</td>\n",
       "    </tr>\n",
       "    <tr>\n",
       "      <th>24</th>\n",
       "      <td>0.969325</td>\n",
       "      <td>0.003067</td>\n",
       "      <td>0.027607</td>\n",
       "    </tr>\n",
       "    <tr>\n",
       "      <th>40</th>\n",
       "      <td>0.000000</td>\n",
       "      <td>0.000000</td>\n",
       "      <td>1.000000</td>\n",
       "    </tr>\n",
       "    <tr>\n",
       "      <th>60</th>\n",
       "      <td>0.478049</td>\n",
       "      <td>0.019512</td>\n",
       "      <td>0.502439</td>\n",
       "    </tr>\n",
       "    <tr>\n",
       "      <th>80</th>\n",
       "      <td>0.348950</td>\n",
       "      <td>0.063005</td>\n",
       "      <td>0.588045</td>\n",
       "    </tr>\n",
       "    <tr>\n",
       "      <th>90</th>\n",
       "      <td>0.211559</td>\n",
       "      <td>0.106870</td>\n",
       "      <td>0.681570</td>\n",
       "    </tr>\n",
       "    <tr>\n",
       "      <th>99</th>\n",
       "      <td>0.451537</td>\n",
       "      <td>0.016548</td>\n",
       "      <td>0.531915</td>\n",
       "    </tr>\n",
       "  </tbody>\n",
       "</table>\n",
       "</div>"
      ],
      "text/plain": [
       "status_group  functional  functional needs repair  non functional\n",
       "region_code                                                      \n",
       "1               0.458428                 0.094957        0.446615\n",
       "2               0.654101                 0.057540        0.288360\n",
       "3               0.602877                 0.073533        0.323590\n",
       "4               0.560287                 0.029049        0.410665\n",
       "5               0.531436                 0.074257        0.394307\n",
       "6               0.662523                 0.009944        0.327533\n",
       "7               0.572671                 0.003727        0.423602\n",
       "8               0.086667                 0.050000        0.863333\n",
       "9               0.356410                 0.053846        0.589744\n",
       "10              0.560606                 0.062121        0.377273\n",
       "11              0.781698                 0.023208        0.195094\n",
       "12              0.499892                 0.108644        0.391464\n",
       "13              0.483039                 0.061156        0.455805\n",
       "14              0.435574                 0.023749        0.540677\n",
       "15              0.391040                 0.074668        0.534292\n",
       "16              0.484020                 0.214134        0.301847\n",
       "17              0.560168                 0.127320        0.312512\n",
       "18              0.520156                 0.091456        0.388387\n",
       "19              0.481785                 0.058418        0.459797\n",
       "20              0.449975                 0.030472        0.519553\n",
       "21              0.623500                 0.060644        0.315856\n",
       "24              0.969325                 0.003067        0.027607\n",
       "40              0.000000                 0.000000        1.000000\n",
       "60              0.478049                 0.019512        0.502439\n",
       "80              0.348950                 0.063005        0.588045\n",
       "90              0.211559                 0.106870        0.681570\n",
       "99              0.451537                 0.016548        0.531915"
      ]
     },
     "execution_count": 45,
     "metadata": {},
     "output_type": "execute_result"
    }
   ],
   "source": [
    "pd.crosstab(train['region_code'], train['status_group'], normalize='index')"
   ]
  },
  {
   "cell_type": "code",
   "execution_count": 47,
   "metadata": {},
   "outputs": [
    {
     "data": {
      "text/plain": [
       "(125,)"
      ]
     },
     "execution_count": 47,
     "metadata": {},
     "output_type": "execute_result"
    }
   ],
   "source": [
    "train['lga'].unique().shape"
   ]
  },
  {
   "cell_type": "code",
   "execution_count": 48,
   "metadata": {},
   "outputs": [
    {
     "data": {
      "text/plain": [
       "(2092,)"
      ]
     },
     "execution_count": 48,
     "metadata": {},
     "output_type": "execute_result"
    }
   ],
   "source": [
    "train['ward'].unique().shape"
   ]
  },
  {
   "cell_type": "markdown",
   "metadata": {},
   "source": [
    "## 地区相关\n",
    "\n",
    "population: 人口\n",
    "\n",
    "public_meeting: 聚集区？\n"
   ]
  },
  {
   "cell_type": "code",
   "execution_count": 50,
   "metadata": {},
   "outputs": [
    {
     "data": {
      "text/plain": [
       "0.3599494949494949"
      ]
     },
     "execution_count": 50,
     "metadata": {},
     "output_type": "execute_result"
    }
   ],
   "source": [
    "miss_rate(train['population'])"
   ]
  },
  {
   "cell_type": "code",
   "execution_count": 54,
   "metadata": {
    "collapsed": true
   },
   "outputs": [],
   "source": [
    "population = train[train['population'] > 0][['population', 'status_group']]\n",
    "population['log_pop'] = np.log1p(population['population'])"
   ]
  },
  {
   "cell_type": "code",
   "execution_count": 58,
   "metadata": {},
   "outputs": [
    {
     "data": {
      "text/plain": [
       "<matplotlib.axes._subplots.AxesSubplot at 0x242eb2397b8>"
      ]
     },
     "execution_count": 58,
     "metadata": {},
     "output_type": "execute_result"
    },
    {
     "data": {
      "image/png": "[encoded data removed]",
      "text/plain": [
       "<matplotlib.figure.Figure at 0x242ea87e160>"
      ]
     },
     "metadata": {},
     "output_type": "display_data"
    }
   ],
   "source": [
    "fig, (ax0, ax1) = plt.subplots(nrows=1, ncols=2, figsize=(14, 6))\n",
    "sns.boxplot(data=population, x='status_group', y='population', ax=ax0)\n",
    "sns.boxplot(data=population, x='status_group', y='log_pop', ax=ax1)"
   ]
  },
  {
   "cell_type": "code",
   "execution_count": 59,
   "metadata": {},
   "outputs": [
    {
     "data": {
      "text/plain": [
       "0.08510101010101012"
      ]
     },
     "execution_count": 59,
     "metadata": {},
     "output_type": "execute_result"
    }
   ],
   "source": [
    "miss_rate(train['public_meeting'])"
   ]
  },
  {
   "cell_type": "code",
   "execution_count": 60,
   "metadata": {},
   "outputs": [
    {
     "data": {
      "text/plain": [
       "0    True\n",
       "1     NaN\n",
       "2    True\n",
       "3    True\n",
       "4    True\n",
       "Name: public_meeting, dtype: object"
      ]
     },
     "execution_count": 60,
     "metadata": {},
     "output_type": "execute_result"
    }
   ],
   "source": [
    "train['public_meeting'].head()"
   ]
  },
  {
   "cell_type": "code",
   "execution_count": 62,
   "metadata": {},
   "outputs": [
    {
     "data": {
      "text/plain": [
       "True"
      ]
     },
     "execution_count": 62,
     "metadata": {},
     "output_type": "execute_result"
    }
   ],
   "source": [
    "train['public_meeting'].dtype == 'object'"
   ]
  },
  {
   "cell_type": "code",
   "execution_count": 63,
   "metadata": {},
   "outputs": [
    {
     "data": {
      "text/html": [
       "<div>\n",
       "<style>\n",
       "    .dataframe thead tr:only-child th {\n",
       "        text-align: right;\n",
       "    }\n",
       "\n",
       "    .dataframe thead th {\n",
       "        text-align: left;\n",
       "    }\n",
       "\n",
       "    .dataframe tbody tr th {\n",
       "        vertical-align: top;\n",
       "    }\n",
       "</style>\n",
       "<table border=\"1\" class=\"dataframe\">\n",
       "  <thead>\n",
       "    <tr style=\"text-align: right;\">\n",
       "      <th>status_group</th>\n",
       "      <th>functional</th>\n",
       "      <th>functional needs repair</th>\n",
       "      <th>non functional</th>\n",
       "    </tr>\n",
       "    <tr>\n",
       "      <th>public_meeting</th>\n",
       "      <th></th>\n",
       "      <th></th>\n",
       "      <th></th>\n",
       "    </tr>\n",
       "  </thead>\n",
       "  <tbody>\n",
       "    <tr>\n",
       "      <th>False</th>\n",
       "      <td>0.429871</td>\n",
       "      <td>0.087438</td>\n",
       "      <td>0.482690</td>\n",
       "    </tr>\n",
       "    <tr>\n",
       "      <th>True</th>\n",
       "      <td>0.556899</td>\n",
       "      <td>0.072906</td>\n",
       "      <td>0.370195</td>\n",
       "    </tr>\n",
       "  </tbody>\n",
       "</table>\n",
       "</div>"
      ],
      "text/plain": [
       "status_group    functional  functional needs repair  non functional\n",
       "public_meeting                                                     \n",
       "False             0.429871                 0.087438        0.482690\n",
       "True              0.556899                 0.072906        0.370195"
      ]
     },
     "execution_count": 63,
     "metadata": {},
     "output_type": "execute_result"
    }
   ],
   "source": [
    "pd.crosstab(train['public_meeting'], train['status_group'], normalize='index')"
   ]
  },
  {
   "cell_type": "markdown",
   "metadata": {},
   "source": [
    "## 取水点相关\n",
    "\n",
    "construction_year: 建筑年份\n",
    "\n",
    "wpt_name: 取水点的名字…\n",
    "\n",
    "extraction_type: 抽水类型\n",
    "\n",
    "extraction_type_group: 抽水类型分组\n",
    "\n",
    "extraction_type_class: 抽水类型分类\n",
    "\n",
    "payment: 付费类型\n",
    "\n",
    "payment_type: 付费类型\n",
    "\n",
    "water_quality: 水质\n",
    "\n",
    "quality_group: 水质等级\n",
    "\n",
    "quantity: 水量\n",
    "\n",
    "quantity_group: 水量等级\n",
    "\n",
    "source: 水源（同source_type）\n",
    "\n",
    "source_type:水源类型（收集雨水、水坝、泉水、钻孔等）\n",
    "\n",
    "source_class: 水源类型（地下水、地表水等）\n",
    "\n",
    "waterpoint_type: 取水点类型\n",
    "\n",
    "waterpoint_type_group: 同上"
   ]
  },
  {
   "cell_type": "markdown",
   "metadata": {},
   "source": [
    "### construction_year: 建筑年份"
   ]
  },
  {
   "cell_type": "code",
   "execution_count": 43,
   "metadata": {},
   "outputs": [
    {
     "data": {
      "text/plain": [
       "0.34863636363636363"
      ]
     },
     "execution_count": 43,
     "metadata": {},
     "output_type": "execute_result"
    }
   ],
   "source": [
    "miss_rate(train['construction_year'])"
   ]
  },
  {
   "cell_type": "code",
   "execution_count": 44,
   "metadata": {},
   "outputs": [
    {
     "data": {
      "text/plain": [
       "0    1999\n",
       "1    2010\n",
       "2    2009\n",
       "3    1986\n",
       "4       0\n",
       "Name: construction_year, dtype: int64"
      ]
     },
     "execution_count": 44,
     "metadata": {},
     "output_type": "execute_result"
    }
   ],
   "source": [
    "train['construction_year'].head()"
   ]
  },
  {
   "cell_type": "code",
   "execution_count": 49,
   "metadata": {},
   "outputs": [
    {
     "data": {
      "text/plain": [
       "<seaborn.axisgrid.FacetGrid at 0xd908470>"
      ]
     },
     "execution_count": 49,
     "metadata": {},
     "output_type": "execute_result"
    },
    {
     "data": {
      "image/png": "[encoded data removed]",
      "text/plain": [
       "<matplotlib.figure.Figure at 0x15315dd8>"
      ]
     },
     "metadata": {},
     "output_type": "display_data"
    }
   ],
   "source": [
    "g = sns.FacetGrid(data=train[train['construction_year'] > 0], col='status_group', size=5, palette=\"RdBu_r\")\n",
    "g.map(sns.distplot, 'construction_year')"
   ]
  },
  {
   "cell_type": "code",
   "execution_count": 57,
   "metadata": {},
   "outputs": [],
   "source": [
    "# 建筑年代汇总\n",
    "const_year = pd.crosstab(train['construction_year'], train['status_group'], margins=False)\n",
    "const_year['func+repair'] = const_year['functional'] + const_year['functional needs repair']\n",
    "const_year['all'] = const_year['functional'] + const_year['functional needs repair'] + const_year['non functional']\n",
    "\n",
    "# 把construction_year大于0的部分单独拿出来\n",
    "const_year_pos = const_year.iloc[1:, :]"
   ]
  },
  {
   "cell_type": "code",
   "execution_count": 89,
   "metadata": {},
   "outputs": [],
   "source": [
    "# 建筑年代各状态比例\n",
    "const_year_prop = pd.crosstab(train[train['construction_year'] > 0]['construction_year'], train[train['construction_year'] > 0]['status_group'], margins=False, normalize='index')\n",
    "const_year_prop['func+repair'] = const_year_prop['functional'] + const_year_prop['functional needs repair']\n",
    "const_year_prop['all'] = const_year_prop['functional'] + const_year_prop['functional needs repair'] + const_year_prop['non functional']"
   ]
  },
  {
   "cell_type": "code",
   "execution_count": 136,
   "metadata": {},
   "outputs": [
    {
     "name": "stdout",
     "output_type": "stream",
     "text": [
      "bar order: \n",
      "\t functional needs repair\n",
      "\t non functional\n",
      "\t functional\n"
     ]
    },
    {
     "data": {
      "image/png": "[encoded data removed]",
      "text/plain": [
       "<matplotlib.figure.Figure at 0x6b8429e8>"
      ]
     },
     "metadata": {},
     "output_type": "display_data"
    }
   ],
   "source": [
    "stacked_bar(train[train['construction_year'] > 0]['construction_year'], train[train['construction_year'] > 0]['status_group'])"
   ]
  },
  {
   "cell_type": "markdown",
   "metadata": {},
   "source": [
    "### extraction_type: 抽水类型\n",
    "\n",
    "### extraction_type_group: 抽水类型分组\n",
    "\n",
    "### extraction_type_class: 抽水类型分类"
   ]
  },
  {
   "cell_type": "code",
   "execution_count": 102,
   "metadata": {},
   "outputs": [
    {
     "name": "stdout",
     "output_type": "stream",
     "text": [
      "miss rate of extraction_type:  0.0\n",
      "miss rate of extraction_type_group:  0.0\n",
      "miss rate of extraction_type_class:  0.0\n"
     ]
    }
   ],
   "source": [
    "print(\"miss rate of extraction_type: \", miss_rate(train['extraction_type']))\n",
    "print(\"miss rate of extraction_type_group: \", miss_rate(train['extraction_type_group']))\n",
    "print(\"miss rate of extraction_type_class: \", miss_rate(train['extraction_type_class']))"
   ]
  },
  {
   "cell_type": "code",
   "execution_count": 99,
   "metadata": {},
   "outputs": [
    {
     "data": {
      "text/plain": [
       "array(['gravity', 'submersible', 'swn 80', 'nira/tanira', 'india mark ii',\n",
       "       'other', 'ksb', 'mono', 'windmill', 'afridev', 'other - rope pump',\n",
       "       'india mark iii', 'other - swn 81', 'other - play pump', 'cemo',\n",
       "       'climax', 'walimi', 'other - mkulima/shinyanga'], dtype=object)"
      ]
     },
     "execution_count": 99,
     "metadata": {},
     "output_type": "execute_result"
    }
   ],
   "source": [
    "train['extraction_type'].unique()"
   ]
  },
  {
   "cell_type": "code",
   "execution_count": 100,
   "metadata": {},
   "outputs": [
    {
     "data": {
      "text/plain": [
       "array(['gravity', 'submersible', 'swn 80', 'nira/tanira', 'india mark ii',\n",
       "       'other', 'mono', 'wind-powered', 'afridev', 'rope pump',\n",
       "       'india mark iii', 'other handpump', 'other motorpump'], dtype=object)"
      ]
     },
     "execution_count": 100,
     "metadata": {},
     "output_type": "execute_result"
    }
   ],
   "source": [
    "train['extraction_type_group'].unique()"
   ]
  },
  {
   "cell_type": "code",
   "execution_count": 101,
   "metadata": {},
   "outputs": [
    {
     "data": {
      "text/plain": [
       "array(['gravity', 'submersible', 'handpump', 'other', 'motorpump',\n",
       "       'wind-powered', 'rope pump'], dtype=object)"
      ]
     },
     "execution_count": 101,
     "metadata": {},
     "output_type": "execute_result"
    }
   ],
   "source": [
    "train['extraction_type_class'].unique()"
   ]
  },
  {
   "cell_type": "code",
   "execution_count": 181,
   "metadata": {},
   "outputs": [
    {
     "data": {
      "text/plain": [
       "Index(['gravity', 'handpump', 'motorpump', 'other', 'rope pump', 'submersible',\n",
       "       'wind-powered'],\n",
       "      dtype='object', name='extraction_type_class')"
      ]
     },
     "execution_count": 181,
     "metadata": {},
     "output_type": "execute_result"
    }
   ],
   "source": [
    "extra_cnt.index"
   ]
  },
  {
   "cell_type": "code",
   "execution_count": 186,
   "metadata": {
    "scrolled": false
   },
   "outputs": [
    {
     "data": {
      "image/png": "[encoded data removed]",
      "text/plain": [
       "<matplotlib.figure.Figure at 0x1d30a7b8>"
      ]
     },
     "metadata": {},
     "output_type": "display_data"
    }
   ],
   "source": [
    "extra_cnt = pd.crosstab(train['extraction_type_class'], train['status_group'])\n",
    "# g = sns.FacetGrid(data=train[['extraction_type_class', 'status_group']], col='extraction_type_class', size=3, col_wrap=3)\n",
    "# g.map(sns.barplot, 'status_group')\n",
    "extraction_type_class = extra_cnt.index\n",
    "fig, ax = plt.subplots(nrows=3, ncols=3, figsize=(14, 12))\n",
    "plt.subplots_adjust(hspace=0.3)\n",
    "for idx in range(extra_cnt.shape[0]):\n",
    "    i, j = idx // 3, idx % 3\n",
    "    _ax = ax[i][j]\n",
    "    sns.barplot(x=extra_cnt.iloc[idx].index, y=extra_cnt.iloc[idx].values, palette='husl', ax=_ax)\n",
    "    _ax.set_title(extra_cnt.index[idx], fontsize=14)"
   ]
  },
  {
   "cell_type": "code",
   "execution_count": 194,
   "metadata": {},
   "outputs": [
    {
     "name": "stdout",
     "output_type": "stream",
     "text": [
      "bar order: \n",
      "\t functional needs repair\n",
      "\t non functional\n",
      "\t functional\n"
     ]
    },
    {
     "data": {
      "image/png": "[encoded data removed]",
      "text/plain": [
       "<matplotlib.figure.Figure at 0x1abcb828>"
      ]
     },
     "metadata": {},
     "output_type": "display_data"
    }
   ],
   "source": [
    "stacked_bar(train['extraction_type_class'], train['status_group'], ticksize=14, hspace=0.4)"
   ]
  },
  {
   "cell_type": "markdown",
   "metadata": {},
   "source": [
    "### payment: 付费类型\n",
    "### payment_type: 付费类型"
   ]
  },
  {
   "cell_type": "code",
   "execution_count": 201,
   "metadata": {},
   "outputs": [
    {
     "data": {
      "text/plain": [
       "0.0"
      ]
     },
     "execution_count": 201,
     "metadata": {},
     "output_type": "execute_result"
    }
   ],
   "source": [
    "miss_rate(train['payment_type'])"
   ]
  },
  {
   "cell_type": "code",
   "execution_count": 198,
   "metadata": {},
   "outputs": [
    {
     "data": {
      "text/plain": [
       "array(['annually', 'never pay', 'per bucket', 'unknown', 'on failure',\n",
       "       'other', 'monthly'], dtype=object)"
      ]
     },
     "execution_count": 198,
     "metadata": {},
     "output_type": "execute_result"
    }
   ],
   "source": [
    "train['payment_type'].unique()"
   ]
  },
  {
   "cell_type": "code",
   "execution_count": 241,
   "metadata": {},
   "outputs": [
    {
     "name": "stdout",
     "output_type": "stream",
     "text": [
      "bar order: \n",
      "\t functional needs repair\n",
      "\t non functional\n",
      "\t functional\n"
     ]
    },
    {
     "data": {
      "image/png": "[encoded data removed]",
      "text/plain": [
       "<matplotlib.figure.Figure at 0x4e7c67b8>"
      ]
     },
     "metadata": {},
     "output_type": "display_data"
    }
   ],
   "source": [
    "stacked_bar(train['payment_type'], train['status_group'], ticksize=12, palette='Set3', pal_random=True)"
   ]
  },
  {
   "cell_type": "markdown",
   "metadata": {},
   "source": [
    "### water_quality: 水质\n",
    "### quality_group: 水质等级"
   ]
  },
  {
   "cell_type": "code",
   "execution_count": 226,
   "metadata": {},
   "outputs": [
    {
     "data": {
      "text/plain": [
       "0.0"
      ]
     },
     "execution_count": 226,
     "metadata": {},
     "output_type": "execute_result"
    }
   ],
   "source": [
    "miss_rate(train['water_quality'])\n",
    "miss_rate(train['quality_group'])"
   ]
  },
  {
   "cell_type": "code",
   "execution_count": 227,
   "metadata": {},
   "outputs": [
    {
     "data": {
      "text/plain": [
       "array(['soft', 'salty', 'milky', 'unknown', 'fluoride', 'coloured',\n",
       "       'salty abandoned', 'fluoride abandoned'], dtype=object)"
      ]
     },
     "execution_count": 227,
     "metadata": {},
     "output_type": "execute_result"
    }
   ],
   "source": [
    "train['water_quality'].unique()"
   ]
  },
  {
   "cell_type": "code",
   "execution_count": 228,
   "metadata": {},
   "outputs": [
    {
     "data": {
      "text/plain": [
       "array(['good', 'salty', 'milky', 'unknown', 'fluoride', 'colored'], dtype=object)"
      ]
     },
     "execution_count": 228,
     "metadata": {},
     "output_type": "execute_result"
    }
   ],
   "source": [
    "train['quality_group'].unique()"
   ]
  },
  {
   "cell_type": "code",
   "execution_count": 251,
   "metadata": {},
   "outputs": [
    {
     "name": "stdout",
     "output_type": "stream",
     "text": [
      "bar order: \n",
      "\t functional needs repair\n",
      "\t non functional\n",
      "\t functional\n"
     ]
    },
    {
     "data": {
      "image/png": "[encoded data removed]",
      "text/plain": [
       "<matplotlib.figure.Figure at 0x19eeee48>"
      ]
     },
     "metadata": {},
     "output_type": "display_data"
    }
   ],
   "source": [
    "stacked_bar(train['quality_group'], train['status_group'], figsize=(12, 6), ticksize=12, palette='Set2')"
   ]
  },
  {
   "cell_type": "markdown",
   "metadata": {},
   "source": [
    "### quantity: 水量\n",
    "### quantity_group: 水量等级"
   ]
  },
  {
   "cell_type": "code",
   "execution_count": 255,
   "metadata": {},
   "outputs": [
    {
     "data": {
      "text/plain": [
       "59400"
      ]
     },
     "execution_count": 255,
     "metadata": {},
     "output_type": "execute_result"
    }
   ],
   "source": [
    "(train['quantity_group'] == train['quantity']).sum()"
   ]
  },
  {
   "cell_type": "code",
   "execution_count": 257,
   "metadata": {},
   "outputs": [
    {
     "data": {
      "text/plain": [
       "array(['enough', 'insufficient', 'dry', 'seasonal', 'unknown'], dtype=object)"
      ]
     },
     "execution_count": 257,
     "metadata": {},
     "output_type": "execute_result"
    }
   ],
   "source": [
    "train['quantity'].unique()"
   ]
  },
  {
   "cell_type": "code",
   "execution_count": 263,
   "metadata": {},
   "outputs": [
    {
     "name": "stdout",
     "output_type": "stream",
     "text": [
      "bar order: \n",
      "\t functional needs repair\n",
      "\t non functional\n",
      "\t functional\n"
     ]
    },
    {
     "data": {
      "image/png": "[encoded data removed]",
      "text/plain": [
       "<matplotlib.figure.Figure at 0x65bd46a0>"
      ]
     },
     "metadata": {},
     "output_type": "display_data"
    }
   ],
   "source": [
    "stacked_bar(train['quantity'], train['status_group'], figsize=(12, 6), ticksize=12, palette='Set3', hspace=0.4)\n",
    "\n",
    "# 比较明显的是水量为dry时，水泵几乎都是坏的——似乎是显而易见的结论？"
   ]
  },
  {
   "cell_type": "markdown",
   "metadata": {},
   "source": [
    "### source: 水源（同source_type）\n",
    "### source_type:水源类型（收集雨水、水坝、泉水、钻孔等）\n",
    "### source_class: 水源类型（地下水、地表水等）"
   ]
  },
  {
   "cell_type": "code",
   "execution_count": 267,
   "metadata": {},
   "outputs": [
    {
     "data": {
      "text/plain": [
       "0.0"
      ]
     },
     "execution_count": 267,
     "metadata": {},
     "output_type": "execute_result"
    }
   ],
   "source": [
    "miss_rate(train['source_class'])"
   ]
  },
  {
   "cell_type": "code",
   "execution_count": 268,
   "metadata": {},
   "outputs": [
    {
     "data": {
      "text/plain": [
       "array(['spring', 'rainwater harvesting', 'dam', 'machine dbh', 'other',\n",
       "       'shallow well', 'river', 'hand dtw', 'lake', 'unknown'], dtype=object)"
      ]
     },
     "execution_count": 268,
     "metadata": {},
     "output_type": "execute_result"
    }
   ],
   "source": [
    "train['source'].unique()"
   ]
  },
  {
   "cell_type": "code",
   "execution_count": 270,
   "metadata": {},
   "outputs": [
    {
     "data": {
      "text/plain": [
       "array(['spring', 'rainwater harvesting', 'dam', 'borehole', 'other',\n",
       "       'shallow well', 'river/lake'], dtype=object)"
      ]
     },
     "execution_count": 270,
     "metadata": {},
     "output_type": "execute_result"
    }
   ],
   "source": [
    "train['source_type'].unique()"
   ]
  },
  {
   "cell_type": "code",
   "execution_count": 269,
   "metadata": {},
   "outputs": [
    {
     "data": {
      "text/plain": [
       "array(['groundwater', 'surface', 'unknown'], dtype=object)"
      ]
     },
     "execution_count": 269,
     "metadata": {},
     "output_type": "execute_result"
    }
   ],
   "source": [
    "train['source_class'].unique()"
   ]
  },
  {
   "cell_type": "code",
   "execution_count": 274,
   "metadata": {},
   "outputs": [
    {
     "data": {
      "text/html": [
       "<div>\n",
       "<style>\n",
       "    .dataframe thead tr:only-child th {\n",
       "        text-align: right;\n",
       "    }\n",
       "\n",
       "    .dataframe thead th {\n",
       "        text-align: left;\n",
       "    }\n",
       "\n",
       "    .dataframe tbody tr th {\n",
       "        vertical-align: top;\n",
       "    }\n",
       "</style>\n",
       "<table border=\"1\" class=\"dataframe\">\n",
       "  <thead>\n",
       "    <tr style=\"text-align: right;\">\n",
       "      <th>status_group</th>\n",
       "      <th>functional</th>\n",
       "      <th>functional needs repair</th>\n",
       "      <th>non functional</th>\n",
       "    </tr>\n",
       "    <tr>\n",
       "      <th>source_class</th>\n",
       "      <th></th>\n",
       "      <th></th>\n",
       "      <th></th>\n",
       "    </tr>\n",
       "  </thead>\n",
       "  <tbody>\n",
       "    <tr>\n",
       "      <th>groundwater</th>\n",
       "      <td>24835</td>\n",
       "      <td>2741</td>\n",
       "      <td>18218</td>\n",
       "    </tr>\n",
       "    <tr>\n",
       "      <th>surface</th>\n",
       "      <td>7266</td>\n",
       "      <td>1571</td>\n",
       "      <td>4491</td>\n",
       "    </tr>\n",
       "    <tr>\n",
       "      <th>unknown</th>\n",
       "      <td>158</td>\n",
       "      <td>5</td>\n",
       "      <td>115</td>\n",
       "    </tr>\n",
       "  </tbody>\n",
       "</table>\n",
       "</div>"
      ],
      "text/plain": [
       "status_group  functional  functional needs repair  non functional\n",
       "source_class                                                     \n",
       "groundwater        24835                     2741           18218\n",
       "surface             7266                     1571            4491\n",
       "unknown              158                        5             115"
      ]
     },
     "execution_count": 274,
     "metadata": {},
     "output_type": "execute_result"
    }
   ],
   "source": [
    "pd.crosstab(train['source_class'], train['status_group'])"
   ]
  },
  {
   "cell_type": "code",
   "execution_count": 275,
   "metadata": {},
   "outputs": [
    {
     "data": {
      "text/html": [
       "<div>\n",
       "<style>\n",
       "    .dataframe thead tr:only-child th {\n",
       "        text-align: right;\n",
       "    }\n",
       "\n",
       "    .dataframe thead th {\n",
       "        text-align: left;\n",
       "    }\n",
       "\n",
       "    .dataframe tbody tr th {\n",
       "        vertical-align: top;\n",
       "    }\n",
       "</style>\n",
       "<table border=\"1\" class=\"dataframe\">\n",
       "  <thead>\n",
       "    <tr style=\"text-align: right;\">\n",
       "      <th>status_group</th>\n",
       "      <th>functional</th>\n",
       "      <th>functional needs repair</th>\n",
       "      <th>non functional</th>\n",
       "    </tr>\n",
       "    <tr>\n",
       "      <th>source_class</th>\n",
       "      <th></th>\n",
       "      <th></th>\n",
       "      <th></th>\n",
       "    </tr>\n",
       "  </thead>\n",
       "  <tbody>\n",
       "    <tr>\n",
       "      <th>groundwater</th>\n",
       "      <td>0.542320</td>\n",
       "      <td>0.059855</td>\n",
       "      <td>0.397825</td>\n",
       "    </tr>\n",
       "    <tr>\n",
       "      <th>surface</th>\n",
       "      <td>0.545168</td>\n",
       "      <td>0.117872</td>\n",
       "      <td>0.336960</td>\n",
       "    </tr>\n",
       "    <tr>\n",
       "      <th>unknown</th>\n",
       "      <td>0.568345</td>\n",
       "      <td>0.017986</td>\n",
       "      <td>0.413669</td>\n",
       "    </tr>\n",
       "  </tbody>\n",
       "</table>\n",
       "</div>"
      ],
      "text/plain": [
       "status_group  functional  functional needs repair  non functional\n",
       "source_class                                                     \n",
       "groundwater     0.542320                 0.059855        0.397825\n",
       "surface         0.545168                 0.117872        0.336960\n",
       "unknown         0.568345                 0.017986        0.413669"
      ]
     },
     "execution_count": 275,
     "metadata": {},
     "output_type": "execute_result"
    }
   ],
   "source": [
    "pd.crosstab(train['source_class'], train['status_group'], normalize='index')"
   ]
  },
  {
   "cell_type": "code",
   "execution_count": 283,
   "metadata": {
    "scrolled": true
   },
   "outputs": [
    {
     "name": "stdout",
     "output_type": "stream",
     "text": [
      "bar order: \n",
      "\t functional needs repair\n",
      "\t non functional\n",
      "\t functional\n"
     ]
    },
    {
     "data": {
      "image/png": "[encoded data removed]",
      "text/plain": [
       "<matplotlib.figure.Figure at 0x1f03d358>"
      ]
     },
     "metadata": {},
     "output_type": "display_data"
    }
   ],
   "source": [
    "stacked_bar(train['source_type'], train['status_group'], figsize=(12, 6), ticksize=12, palette='Set2', hspace=0.4)"
   ]
  },
  {
   "cell_type": "markdown",
   "metadata": {},
   "source": [
    "### waterpoint_type: 取水点类型\n",
    "### waterpoint_type_group: 同上"
   ]
  },
  {
   "cell_type": "code",
   "execution_count": 287,
   "metadata": {},
   "outputs": [
    {
     "data": {
      "text/plain": [
       "array(['communal standpipe', 'hand pump', 'other', 'improved spring',\n",
       "       'cattle trough', 'dam'], dtype=object)"
      ]
     },
     "execution_count": 287,
     "metadata": {},
     "output_type": "execute_result"
    }
   ],
   "source": [
    "train['waterpoint_type_group'].unique()"
   ]
  },
  {
   "cell_type": "code",
   "execution_count": 288,
   "metadata": {},
   "outputs": [
    {
     "data": {
      "text/plain": [
       "array(['communal standpipe', 'communal standpipe multiple', 'hand pump',\n",
       "       'other', 'improved spring', 'cattle trough', 'dam'], dtype=object)"
      ]
     },
     "execution_count": 288,
     "metadata": {},
     "output_type": "execute_result"
    }
   ],
   "source": [
    "train['waterpoint_type'].unique()"
   ]
  },
  {
   "cell_type": "markdown",
   "metadata": {},
   "source": [
    "## 特征选择"
   ]
  }
 ],
 "metadata": {
  "kernelspec": {
   "display_name": "Python [Root]",
   "language": "python",
   "name": "Python [Root]"
  },
  "language_info": {
   "codemirror_mode": {
    "name": "ipython",
    "version": 3
   },
   "file_extension": ".py",
   "mimetype": "text/x-python",
   "name": "python",
   "nbconvert_exporter": "python",
   "pygments_lexer": "ipython3",
   "version": "3.5.3"
  }
 },
 "nbformat": 4,
 "nbformat_minor": 2
}
